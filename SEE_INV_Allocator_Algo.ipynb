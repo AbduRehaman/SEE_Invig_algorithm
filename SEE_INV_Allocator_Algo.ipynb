{
 "cells": [
  {
   "cell_type": "code",
   "execution_count": 98,
   "metadata": {},
   "outputs": [],
   "source": [
    "import mysql.connector\n",
    "import math"
   ]
  },
  {
   "cell_type": "code",
   "execution_count": 3,
   "metadata": {},
   "outputs": [],
   "source": [
    "connection = mysql.connector.connect(\n",
    "    host=\"localhost\",\n",
    "    database=\"SEE_INV\",\n",
    "    user=\"root\",\n",
    "    password=\"root@123\"\n",
    ")"
   ]
  },
  {
   "cell_type": "code",
   "execution_count": 3,
   "metadata": {},
   "outputs": [
    {
     "data": {
      "text/plain": [
       "True"
      ]
     },
     "execution_count": 3,
     "metadata": {},
     "output_type": "execute_result"
    }
   ],
   "source": [
    "connection.is_connected()"
   ]
  },
  {
   "cell_type": "code",
   "execution_count": 4,
   "metadata": {},
   "outputs": [],
   "source": [
    "cursor = connection.cursor()"
   ]
  },
  {
   "cell_type": "code",
   "execution_count": 61,
   "metadata": {},
   "outputs": [
    {
     "name": "stdout",
     "output_type": "stream",
     "text": [
      "Connected to MySQL Server version  8.0.31\n",
      "You're connected to database:  ('see_inv',)\n"
     ]
    }
   ],
   "source": [
    "import mysql.connector\n",
    "from mysql.connector import Error\n",
    "\n",
    "try:\n",
    "    connection = mysql.connector.connect(    host=\"localhost\",\n",
    "    database=\"SEE_INV\",\n",
    "    user=\"root\",\n",
    "    password=\"root@123\")\n",
    "    if connection.is_connected():\n",
    "        db_Info = connection.get_server_info()\n",
    "        print(\"Connected to MySQL Server version \", db_Info)\n",
    "        cursor = connection.cursor(buffered=True)\n",
    "        cursor.execute(\"select database();\")\n",
    "        record = cursor.fetchone()\n",
    "        print(\"You're connected to database: \", record)\n",
    "\n",
    "except Error as e:\n",
    "    print(\"Error while connecting to MySQL\", e)\n"
   ]
  },
  {
   "cell_type": "code",
   "execution_count": 62,
   "metadata": {},
   "outputs": [
    {
     "name": "stdout",
     "output_type": "stream",
     "text": [
      "('CRM', 'Chethana', '', 'Murthy', 'chethanamurthy@rvce.edu.in', '2', '', 'CSE', 57, 0)\n",
      "('DN', 'Deepa', '', 'Malan', 'deepamalan@rvce.edu.in', '1', '', 'CSE', 51, 0)\n",
      "('KB', 'Badrinath', '', 'KB', 'badrinath.kb@rvce.edu.in', '1', '', 'CSE', 51, 0)\n",
      "('MM', 'Merin', '', 'Meleet', 'merinmeleet@rvce.edu.in', '2', '', 'ISE', 51, 0)\n",
      "('PK', 'Poornima', '', 'Kulkarni', 'poornimak@rvce.edu.in', '2', '', 'ISE', 51, 0)\n",
      "('PT', 'Padmashree', '', 'T', 'padmashreet@rvce.edu.in', '1', '', 'ISE', 46, 0)\n",
      "('RGP', 'Raghavendraprasad', '', 'S', 'raghavendrap@rvce.edu.in', '1', '', 'ISE', 46, 0)\n",
      "('SGR', 'Smitha', '', 'GR', 'smithagr@rvce.edu.in', '1', '', 'ISE', 46, 0)\n",
      "('TD', 'Pratiba', '', 'D', 'pratibad@rvce.edu.in', '2', '', 'CSE', 57, 0)\n"
     ]
    }
   ],
   "source": [
    "query = \"select * from FACULTY\"\n",
    "cursor.execute(query)\n",
    "records = cursor.fetchall()\n",
    "for row in records:\n",
    "    print(row)"
   ]
  },
  {
   "cell_type": "code",
   "execution_count": 63,
   "metadata": {},
   "outputs": [
    {
     "name": "stdout",
     "output_type": "stream",
     "text": [
      "('DN', 'Deepa', '', 'Malan', 'deepamalan@rvce.edu.in', '1', '', 'CSE', 51, 0)\n",
      "('KB', 'Badrinath', '', 'KB', 'badrinath.kb@rvce.edu.in', '1', '', 'CSE', 51, 0)\n",
      "('CRM', 'Chethana', '', 'Murthy', 'chethanamurthy@rvce.edu.in', '2', '', 'CSE', 57, 0)\n",
      "('TD', 'Pratiba', '', 'D', 'pratibad@rvce.edu.in', '2', '', 'CSE', 57, 0)\n",
      "('PT', 'Padmashree', '', 'T', 'padmashreet@rvce.edu.in', '1', '', 'ISE', 46, 0)\n",
      "('RGP', 'Raghavendraprasad', '', 'S', 'raghavendrap@rvce.edu.in', '1', '', 'ISE', 46, 0)\n",
      "('SGR', 'Smitha', '', 'GR', 'smithagr@rvce.edu.in', '1', '', 'ISE', 46, 0)\n",
      "('MM', 'Merin', '', 'Meleet', 'merinmeleet@rvce.edu.in', '2', '', 'ISE', 51, 0)\n",
      "('PK', 'Poornima', '', 'Kulkarni', 'poornimak@rvce.edu.in', '2', '', 'ISE', 51, 0)\n"
     ]
    }
   ],
   "source": [
    "query = \"select * from FACULTY order by Department_ID, Group_ID\"\n",
    "cursor.execute(query)\n",
    "records = cursor.fetchall()\n",
    "for row in records:\n",
    "    print(row)"
   ]
  },
  {
   "cell_type": "code",
   "execution_count": null,
   "metadata": {},
   "outputs": [],
   "source": [
    "def randomly_assign_test():"
   ]
  },
  {
   "cell_type": "code",
   "execution_count": 47,
   "metadata": {},
   "outputs": [],
   "source": [
    "def get_group_per_department(department_id):\n",
    "    query = \"select * from FACULTY where Department_ID = %s order by Group_ID\"\n",
    "    cursor.execute(query, (department_id,))\n",
    "    records = cursor.fetchall()\n",
    "    for row in records:\n",
    "        print(row)\n",
    "\n",
    "def get_facs_group(department_id, group_id):\n",
    "    query = \"select * from FACULTY where Department_ID = %s and Group_ID = %s\"\n",
    "    cursor.execute(query, (department_id, group_id))\n",
    "    records = cursor.fetchall()\n",
    "    for row in records:\n",
    "        increment_invig_count(row[0])\n",
    "        \n",
    "    "
   ]
  },
  {
   "cell_type": "code",
   "execution_count": 17,
   "metadata": {},
   "outputs": [],
   "source": [
    "def increment_invig_count(fac_id):\n",
    "    query = \"update FACULTY set Invig_Count = Invig_Count + 1 where Faculty_ID = %s\"\n",
    "    cursor.execute(query, (fac_id,))\n",
    "    connection.commit()"
   ]
  },
  {
   "cell_type": "code",
   "execution_count": 18,
   "metadata": {},
   "outputs": [],
   "source": [
    "iterative_list = [['ISE','1'], ['ISE','2'], ['CSE','1'], ['CSE','2']]"
   ]
  },
  {
   "cell_type": "code",
   "execution_count": 19,
   "metadata": {},
   "outputs": [],
   "source": [
    "import random"
   ]
  },
  {
   "cell_type": "code",
   "execution_count": 20,
   "metadata": {},
   "outputs": [],
   "source": [
    "def allocation(iterative_list):\n",
    "    i = random.randint(0, len(iterative_list)-1)\n",
    "    get_facs_group(iterative_list[i][0], iterative_list[i][1])"
   ]
  },
  {
   "cell_type": "code",
   "execution_count": 21,
   "metadata": {},
   "outputs": [],
   "source": [
    "for i in range(100):\n",
    "    allocation(iterative_list)"
   ]
  },
  {
   "cell_type": "code",
   "execution_count": 64,
   "metadata": {},
   "outputs": [
    {
     "name": "stdout",
     "output_type": "stream",
     "text": [
      "('2023', 'fast_track')\n",
      "('2023', 'makeup')\n",
      "('2023', 'regular')\n"
     ]
    }
   ],
   "source": [
    "query = \"select * from EXAM\"\n",
    "cursor.execute(query)\n",
    "records = cursor.fetchall()\n",
    "for row in records:\n",
    "    print(row)"
   ]
  },
  {
   "cell_type": "code",
   "execution_count": 65,
   "metadata": {},
   "outputs": [
    {
     "name": "stdout",
     "output_type": "stream",
     "text": [
      "[('2023', 'fast_track'), ('2023', 'makeup'), ('2023', 'regular')]\n"
     ]
    }
   ],
   "source": [
    "query = \"select * from EXAM\"\n",
    "cursor.execute(query)\n",
    "records = cursor.fetchall()\n",
    "exams = []\n",
    "for row in records:\n",
    "    exams.append(row)\n",
    "exams = set(exams)\n",
    "exams = list(exams)\n",
    "print(exams)"
   ]
  },
  {
   "cell_type": "code",
   "execution_count": 66,
   "metadata": {},
   "outputs": [
    {
     "name": "stdout",
     "output_type": "stream",
     "text": [
      "[('2', 'ISE'), ('1', 'ISE'), ('2', 'CSE'), ('1', 'CSE')]\n"
     ]
    }
   ],
   "source": [
    "query = \"select Group_ID, Department_ID from FACULTY\"\n",
    "cursor.execute(query)\n",
    "records = cursor.fetchall()\n",
    "answer = []\n",
    "for row in records:\n",
    "    answer.append(row)\n",
    "answer = set(answer)\n",
    "answer = list(answer)\n",
    "print(answer)"
   ]
  },
  {
   "cell_type": "code",
   "execution_count": 67,
   "metadata": {},
   "outputs": [
    {
     "name": "stdout",
     "output_type": "stream",
     "text": [
      "[('18IS53', datetime.date(2023, 2, 28)), ('18IS55', datetime.date(2023, 3, 10)), ('18IS52', datetime.date(2023, 2, 20)), ('18HSI51', datetime.date(2023, 2, 15)), ('18IS54', datetime.date(2023, 3, 3))]\n"
     ]
    }
   ],
   "source": [
    "query = \"select Subject_ID, Exam_Date from SUBJECT\"\n",
    "cursor.execute(query)\n",
    "records = cursor.fetchall()\n",
    "subjects = []\n",
    "for row in records:\n",
    "    subjects.append(row)\n",
    "subjects = set(subjects)\n",
    "subjects = list(subjects)\n",
    "print(subjects)"
   ]
  },
  {
   "cell_type": "code",
   "execution_count": 68,
   "metadata": {},
   "outputs": [
    {
     "name": "stdout",
     "output_type": "stream",
     "text": [
      "['2023', 'fast_track', '18IS53', datetime.date(2023, 2, 28)]\n",
      "['2023', 'fast_track', '18IS55', datetime.date(2023, 3, 10)]\n",
      "['2023', 'fast_track', '18IS52', datetime.date(2023, 2, 20)]\n",
      "['2023', 'fast_track', '18HSI51', datetime.date(2023, 2, 15)]\n",
      "['2023', 'fast_track', '18IS54', datetime.date(2023, 3, 3)]\n",
      "['2023', 'makeup', '18IS53', datetime.date(2023, 2, 28)]\n",
      "['2023', 'makeup', '18IS55', datetime.date(2023, 3, 10)]\n",
      "['2023', 'makeup', '18IS52', datetime.date(2023, 2, 20)]\n",
      "['2023', 'makeup', '18HSI51', datetime.date(2023, 2, 15)]\n",
      "['2023', 'makeup', '18IS54', datetime.date(2023, 3, 3)]\n",
      "['2023', 'regular', '18IS53', datetime.date(2023, 2, 28)]\n",
      "['2023', 'regular', '18IS55', datetime.date(2023, 3, 10)]\n",
      "['2023', 'regular', '18IS52', datetime.date(2023, 2, 20)]\n",
      "['2023', 'regular', '18HSI51', datetime.date(2023, 2, 15)]\n",
      "['2023', 'regular', '18IS54', datetime.date(2023, 3, 3)]\n"
     ]
    }
   ],
   "source": [
    "possible_exams = []\n",
    "for i in exams:\n",
    "    for j in subjects:\n",
    "        possible_exams.append([i[0], i[1], j[0], j[1]])\n",
    "for i in possible_exams:\n",
    "    print(i)"
   ]
  },
  {
   "cell_type": "code",
   "execution_count": 56,
   "metadata": {},
   "outputs": [],
   "source": [
    "def insert_into_has_exam(academic_year, exam_type, subject_id, exam_date):\n",
    "    query = \"insert into HAS_EXAM values(%s, %s, %s, %s)\"\n",
    "    cursor.execute(query, (academic_year, exam_type, subject_id, exam_date))\n",
    "    connection.commit()"
   ]
  },
  {
   "cell_type": "code",
   "execution_count": 57,
   "metadata": {},
   "outputs": [],
   "source": [
    "for i in possible_exams:\n",
    "    insert_into_has_exam(i[0], i[1], i[2], i[3])"
   ]
  },
  {
   "cell_type": "code",
   "execution_count": 99,
   "metadata": {},
   "outputs": [],
   "source": [
    "def required_no_invigilators(subject_id, exam_date):\n",
    "    query = \"select Students_enrolled, Subject_Type from SUBJECT where Subject_ID = %s and Exam_Date = %s\"\n",
    "    cursor.execute(query, (subject_id, exam_date))\n",
    "    records = cursor.fetchall()\n",
    "    required = math.ceil(records[0][0]/30)\n",
    "    query = \"update HAS_EXAM set required_invigilators = %s where Subject_ID = %s and Exam_Date = %s and Exam_Type = %s\"\n",
    "    cursor.execute(query, (required, subject_id, exam_date,records[0][1]))\n",
    "    connection.commit()"
   ]
  },
  {
   "cell_type": "code",
   "execution_count": 100,
   "metadata": {},
   "outputs": [],
   "source": [
    "for i in subjects:\n",
    "    required_no_invigilators(i[0], i[1])"
   ]
  },
  {
   "cell_type": "code",
   "execution_count": null,
   "metadata": {},
   "outputs": [],
   "source": []
  }
 ],
 "metadata": {
  "kernelspec": {
   "display_name": "Python 3.9.13 ('tensorflow')",
   "language": "python",
   "name": "python3"
  },
  "language_info": {
   "codemirror_mode": {
    "name": "ipython",
    "version": 3
   },
   "file_extension": ".py",
   "mimetype": "text/x-python",
   "name": "python",
   "nbconvert_exporter": "python",
   "pygments_lexer": "ipython3",
   "version": "3.9.13"
  },
  "orig_nbformat": 4,
  "vscode": {
   "interpreter": {
    "hash": "394790b30aea288f0ec741f95f8af4fb06399bd07c88814afead1534ec90e49c"
   }
  }
 },
 "nbformat": 4,
 "nbformat_minor": 2
}
