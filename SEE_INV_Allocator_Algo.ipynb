{
 "cells": [
  {
   "cell_type": "code",
   "execution_count": 104,
   "metadata": {},
   "outputs": [],
   "source": [
    "import mysql.connector\n",
    "import math"
   ]
  },
  {
   "cell_type": "code",
   "execution_count": 3,
   "metadata": {},
   "outputs": [],
   "source": [
    "connection = mysql.connector.connect(\n",
    "    host=\"localhost\",\n",
    "    database=\"SEE_INV\",\n",
    "    user=\"root\",\n",
    "    password=\"root@123\"\n",
    ")"
   ]
  },
  {
   "cell_type": "code",
   "execution_count": 3,
   "metadata": {},
   "outputs": [
    {
     "data": {
      "text/plain": [
       "True"
      ]
     },
     "execution_count": 3,
     "metadata": {},
     "output_type": "execute_result"
    }
   ],
   "source": [
    "connection.is_connected()"
   ]
  },
  {
   "cell_type": "code",
   "execution_count": 4,
   "metadata": {},
   "outputs": [],
   "source": [
    "cursor = connection.cursor()"
   ]
  },
  {
   "cell_type": "code",
   "execution_count": 160,
   "metadata": {},
   "outputs": [
    {
     "name": "stdout",
     "output_type": "stream",
     "text": [
      "Connected to MySQL Server version  8.0.31\n",
      "You're connected to database:  ('see_inv',)\n"
     ]
    }
   ],
   "source": [
    "import mysql.connector\n",
    "from mysql.connector import Error\n",
    "\n",
    "try:\n",
    "    connection = mysql.connector.connect(    host=\"localhost\",\n",
    "    database=\"SEE_INV\",\n",
    "    user=\"root\",\n",
    "    password=\"root@123\")\n",
    "    if connection.is_connected():\n",
    "        db_Info = connection.get_server_info()\n",
    "        print(\"Connected to MySQL Server version \", db_Info)\n",
    "        cursor = connection.cursor(buffered=True)\n",
    "        cursor.execute(\"select database();\")\n",
    "        record = cursor.fetchone()\n",
    "        print(\"You're connected to database: \", record)\n",
    "\n",
    "except Error as e:\n",
    "    print(\"Error while connecting to MySQL\", e)\n"
   ]
  },
  {
   "cell_type": "code",
   "execution_count": 161,
   "metadata": {},
   "outputs": [
    {
     "name": "stdout",
     "output_type": "stream",
     "text": [
      "('CRM', 'Chethana', '', 'Murthy', 'chethanamurthy@rvce.edu.in', '2', '', 'CSE', 0, 0)\n",
      "('DN', 'Deepa', '', 'Malan', 'deepamalan@rvce.edu.in', '1', '', 'CSE', 0, 0)\n",
      "('KB', 'Badrinath', '', 'KB', 'badrinath.kb@rvce.edu.in', '1', '', 'CSE', 0, 0)\n",
      "('MM', 'Merin', '', 'Meleet', 'merinmeleet@rvce.edu.in', '2', '', 'ISE', 0, 0)\n",
      "('PK', 'Poornima', '', 'Kulkarni', 'poornimak@rvce.edu.in', '2', '', 'ISE', 0, 0)\n",
      "('PT', 'Padmashree', '', 'T', 'padmashreet@rvce.edu.in', '1', '', 'ISE', 0, 0)\n",
      "('RGP', 'Raghavendraprasad', '', 'S', 'raghavendrap@rvce.edu.in', '1', '', 'ISE', 0, 0)\n",
      "('SGR', 'Smitha', '', 'GR', 'smithagr@rvce.edu.in', '1', '', 'ISE', 0, 0)\n",
      "('TD', 'Pratiba', '', 'D', 'pratibad@rvce.edu.in', '2', '', 'CSE', 0, 0)\n"
     ]
    }
   ],
   "source": [
    "query = \"select * from FACULTY\"\n",
    "cursor.execute(query)\n",
    "records = cursor.fetchall()\n",
    "for row in records:\n",
    "    print(row)"
   ]
  },
  {
   "cell_type": "code",
   "execution_count": 107,
   "metadata": {},
   "outputs": [
    {
     "name": "stdout",
     "output_type": "stream",
     "text": [
      "('DN', 'Deepa', '', 'Malan', 'deepamalan@rvce.edu.in', '1', '', 'CSE', 0, 0)\n",
      "('KB', 'Badrinath', '', 'KB', 'badrinath.kb@rvce.edu.in', '1', '', 'CSE', 0, 0)\n",
      "('CRM', 'Chethana', '', 'Murthy', 'chethanamurthy@rvce.edu.in', '2', '', 'CSE', 0, 0)\n",
      "('TD', 'Pratiba', '', 'D', 'pratibad@rvce.edu.in', '2', '', 'CSE', 0, 0)\n",
      "('PT', 'Padmashree', '', 'T', 'padmashreet@rvce.edu.in', '1', '', 'ISE', 0, 0)\n",
      "('RGP', 'Raghavendraprasad', '', 'S', 'raghavendrap@rvce.edu.in', '1', '', 'ISE', 0, 0)\n",
      "('SGR', 'Smitha', '', 'GR', 'smithagr@rvce.edu.in', '1', '', 'ISE', 0, 0)\n",
      "('MM', 'Merin', '', 'Meleet', 'merinmeleet@rvce.edu.in', '2', '', 'ISE', 0, 0)\n",
      "('PK', 'Poornima', '', 'Kulkarni', 'poornimak@rvce.edu.in', '2', '', 'ISE', 0, 0)\n"
     ]
    }
   ],
   "source": [
    "query = \"select * from FACULTY order by Department_ID, Group_ID\"\n",
    "cursor.execute(query)\n",
    "records = cursor.fetchall()\n",
    "for row in records:\n",
    "    print(row)"
   ]
  },
  {
   "cell_type": "code",
   "execution_count": null,
   "metadata": {},
   "outputs": [],
   "source": [
    "def randomly_assign_test():"
   ]
  },
  {
   "cell_type": "code",
   "execution_count": 108,
   "metadata": {},
   "outputs": [],
   "source": [
    "def get_group_per_department(department_id):\n",
    "    query = \"select * from FACULTY where Department_ID = %s order by Group_ID\"\n",
    "    cursor.execute(query, (department_id,))\n",
    "    records = cursor.fetchall()\n",
    "    for row in records:\n",
    "        print(row)\n",
    "\n",
    "def get_facs_group(department_id, group_id):\n",
    "    query = \"select * from FACULTY where Department_ID = %s and Group_ID = %s\"\n",
    "    cursor.execute(query, (department_id, group_id))\n",
    "    records = cursor.fetchall()\n",
    "    for row in records:\n",
    "        increment_invig_count(row[0])\n",
    "        \n",
    "    "
   ]
  },
  {
   "cell_type": "code",
   "execution_count": 17,
   "metadata": {},
   "outputs": [],
   "source": [
    "def increment_invig_count(fac_id):\n",
    "    query = \"update FACULTY set Invig_Count = Invig_Count + 1 where Faculty_ID = %s\"\n",
    "    cursor.execute(query, (fac_id,))\n",
    "    connection.commit()"
   ]
  },
  {
   "cell_type": "code",
   "execution_count": 18,
   "metadata": {},
   "outputs": [],
   "source": [
    "iterative_list = [['ISE','1'], ['ISE','2'], ['CSE','1'], ['CSE','2']]"
   ]
  },
  {
   "cell_type": "code",
   "execution_count": 19,
   "metadata": {},
   "outputs": [],
   "source": [
    "import random"
   ]
  },
  {
   "cell_type": "code",
   "execution_count": 109,
   "metadata": {},
   "outputs": [],
   "source": [
    "def allocation(iterative_list):\n",
    "    i = random.randint(0, len(iterative_list)-1)\n",
    "    get_facs_group(iterative_list[i][0], iterative_list[i][1])"
   ]
  },
  {
   "cell_type": "code",
   "execution_count": 21,
   "metadata": {},
   "outputs": [],
   "source": [
    "for i in range(100):\n",
    "    allocation(iterative_list)"
   ]
  },
  {
   "cell_type": "code",
   "execution_count": 110,
   "metadata": {},
   "outputs": [
    {
     "name": "stdout",
     "output_type": "stream",
     "text": [
      "('2023', 'fast_track')\n",
      "('2023', 'makeup')\n",
      "('2023', 'regular')\n"
     ]
    }
   ],
   "source": [
    "query = \"select * from EXAM\"\n",
    "cursor.execute(query)\n",
    "records = cursor.fetchall()\n",
    "for row in records:\n",
    "    print(row)"
   ]
  },
  {
   "cell_type": "code",
   "execution_count": 111,
   "metadata": {},
   "outputs": [
    {
     "name": "stdout",
     "output_type": "stream",
     "text": [
      "[('2023', 'fast_track'), ('2023', 'makeup'), ('2023', 'regular')]\n"
     ]
    }
   ],
   "source": [
    "query = \"select * from EXAM\"\n",
    "cursor.execute(query)\n",
    "records = cursor.fetchall()\n",
    "exams = []\n",
    "for row in records:\n",
    "    exams.append(row)\n",
    "exams = set(exams)\n",
    "exams = list(exams)\n",
    "print(exams)"
   ]
  },
  {
   "cell_type": "code",
   "execution_count": 112,
   "metadata": {},
   "outputs": [
    {
     "name": "stdout",
     "output_type": "stream",
     "text": [
      "[('2', 'ISE'), ('1', 'ISE'), ('2', 'CSE'), ('1', 'CSE')]\n"
     ]
    }
   ],
   "source": [
    "query = \"select Group_ID, Department_ID from FACULTY\"\n",
    "cursor.execute(query)\n",
    "records = cursor.fetchall()\n",
    "answer = []\n",
    "for row in records:\n",
    "    answer.append(row)\n",
    "answer = set(answer)\n",
    "answer = list(answer)\n",
    "print(answer)"
   ]
  },
  {
   "cell_type": "code",
   "execution_count": 114,
   "metadata": {},
   "outputs": [
    {
     "name": "stdout",
     "output_type": "stream",
     "text": [
      "[('18IS55',), ('18IS54',), ('18IS53',), ('18HSI51',), ('18IS52',)]\n"
     ]
    }
   ],
   "source": [
    "query = \"select Subject_ID from SUBJECT\"\n",
    "cursor.execute(query)\n",
    "records = cursor.fetchall()\n",
    "subjects = []\n",
    "for row in records:\n",
    "    subjects.append(row)\n",
    "subjects = set(subjects)\n",
    "subjects = list(subjects)\n",
    "print(subjects)"
   ]
  },
  {
   "cell_type": "code",
   "execution_count": 125,
   "metadata": {},
   "outputs": [
    {
     "name": "stdout",
     "output_type": "stream",
     "text": [
      "['2023', 'fast_track', '18IS55']\n",
      "['2023', 'fast_track', '18IS54']\n",
      "['2023', 'fast_track', '18IS53']\n",
      "['2023', 'fast_track', '18HSI51']\n",
      "['2023', 'fast_track', '18IS52']\n",
      "['2023', 'makeup', '18IS55']\n",
      "['2023', 'makeup', '18IS54']\n",
      "['2023', 'makeup', '18IS53']\n",
      "['2023', 'makeup', '18HSI51']\n",
      "['2023', 'makeup', '18IS52']\n",
      "['2023', 'regular', '18IS55']\n",
      "['2023', 'regular', '18IS54']\n",
      "['2023', 'regular', '18IS53']\n",
      "['2023', 'regular', '18HSI51']\n",
      "['2023', 'regular', '18IS52']\n"
     ]
    }
   ],
   "source": [
    "possible_exams = []\n",
    "for i in exams:\n",
    "    for j in subjects:\n",
    "        possible_exams.append([i[0], i[1], j[0]])\n",
    "for i in possible_exams:\n",
    "    print(i)"
   ]
  },
  {
   "cell_type": "code",
   "execution_count": 126,
   "metadata": {},
   "outputs": [],
   "source": [
    "def insert_into_has_exam(academic_year, exam_type, subject_id,):\n",
    "    query = \"insert into HAS_EXAM(academic_year, exam_type, subject_id) values(%s, %s, %s)\"\n",
    "    cursor.execute(query, (academic_year, exam_type, subject_id))\n",
    "    connection.commit()"
   ]
  },
  {
   "cell_type": "code",
   "execution_count": 127,
   "metadata": {},
   "outputs": [],
   "source": [
    "for i in possible_exams:\n",
    "    insert_into_has_exam(i[0], i[1], i[2])"
   ]
  },
  {
   "cell_type": "code",
   "execution_count": 130,
   "metadata": {},
   "outputs": [],
   "source": [
    "def insert_into_enrolled(academic_year, exam_type, subject_id):\n",
    "    query = \"insert into ENROLLED(academic_year, exam_type, subject_id) values(%s, %s, %s)\"\n",
    "    cursor.execute(query, (academic_year, exam_type, subject_id))\n",
    "    connection.commit()"
   ]
  },
  {
   "cell_type": "code",
   "execution_count": 131,
   "metadata": {},
   "outputs": [],
   "source": [
    "for i in possible_exams:\n",
    "    insert_into_enrolled(i[0], i[1], i[2])"
   ]
  },
  {
   "cell_type": "code",
   "execution_count": 132,
   "metadata": {},
   "outputs": [],
   "source": [
    "def update_enrolled(subject_id, students_enrolled, exam_type, academic_year):\n",
    "    query = \"update ENROLLED set students_enrolled = %s where Subject_ID = %s and Exam_Type = %s and Academic_Year = %s\"\n",
    "    cursor.execute(query, (students_enrolled, subject_id, exam_type, academic_year))\n",
    "    connection.commit()"
   ]
  },
  {
   "cell_type": "code",
   "execution_count": 136,
   "metadata": {},
   "outputs": [],
   "source": [
    "def update_has_exam(subject_id, exam_type, academic_year, required_invigilators):\n",
    "    query = \"update HAS_EXAM set required_invigilators = %s where Subject_ID = %s and Exam_Type = %s and Academic_Year = %s\"\n",
    "    cursor.execute(query, (required_invigilators, subject_id, exam_type, academic_year))\n",
    "    connection.commit()"
   ]
  },
  {
   "cell_type": "code",
   "execution_count": 137,
   "metadata": {},
   "outputs": [],
   "source": [
    "def required_no_invigilators(subject_id, exam_type, academic_year):\n",
    "    query = \"select Students_Enrolled from ENROLLED where Subject_ID = %s and Exam_Type = %s and Academic_Year = %s\"\n",
    "    cursor.execute(query, (subject_id, exam_type, academic_year))\n",
    "    records = cursor.fetchall()\n",
    "    students_enrolled = records[0][0]\n",
    "    no_of_invigilators = math.ceil(students_enrolled/30)\n",
    "    update_has_exam(subject_id, exam_type, academic_year, no_of_invigilators)"
   ]
  },
  {
   "cell_type": "code",
   "execution_count": 138,
   "metadata": {},
   "outputs": [],
   "source": [
    "for i in possible_exams:\n",
    "    required_no_invigilators(i[2], i[1], i[0])"
   ]
  },
  {
   "cell_type": "code",
   "execution_count": 150,
   "metadata": {},
   "outputs": [],
   "source": [
    "n=10\n",
    "l = []\n",
    "for i in range(10, n+10):\n",
    "    l.append(i**i)"
   ]
  },
  {
   "cell_type": "code",
   "execution_count": 151,
   "metadata": {},
   "outputs": [
    {
     "name": "stdout",
     "output_type": "stream",
     "text": [
      "0\n"
     ]
    }
   ],
   "source": [
    "a,b=1,0\n",
    "a = a^b\n",
    "b = a^b\n",
    "a = a^b\n",
    "print(a)"
   ]
  },
  {
   "cell_type": "code",
   "execution_count": 152,
   "metadata": {},
   "outputs": [
    {
     "name": "stdout",
     "output_type": "stream",
     "text": [
      "False\n",
      "True\n"
     ]
    }
   ],
   "source": [
    "def bar(string) :\n",
    "    left = 0\n",
    "    right = len(string) - 1\n",
    "    while(left < right):\n",
    "        if(string [left] != string[right]):\n",
    "            return False\n",
    "        left+=1\n",
    "        right-=1\n",
    "    return True\n",
    "print(bar(\"telugu\" ))\n",
    "print(bar(\"malayalam\"))"
   ]
  },
  {
   "cell_type": "code",
   "execution_count": 158,
   "metadata": {},
   "outputs": [],
   "source": [
    "def insert_into_classroom(classroom_id, capacity, department_id):\n",
    "    query = \"insert into CLASSROOM values(%s, %s, %s)\"\n",
    "    cursor.execute(query, (classroom_id, capacity, department_id))\n",
    "    connection.commit()"
   ]
  },
  {
   "cell_type": "code",
   "execution_count": 162,
   "metadata": {},
   "outputs": [],
   "source": [
    "insert_into_classroom(101, 60, 'ISE')\n",
    "insert_into_classroom(102, 60, 'ISE')\n",
    "insert_into_classroom(103, 60, 'ISE')\n",
    "insert_into_classroom(104, 80, 'ISE')\n",
    "insert_into_classroom(201, 60, 'ISE')\n",
    "insert_into_classroom(202, 60, 'ISE')\n",
    "insert_into_classroom(301, 60, 'ISE')\n",
    "insert_into_classroom(101, 60, 'CSE')\n",
    "insert_into_classroom(102, 60, 'CSE')\n",
    "insert_into_classroom(103, 80, 'CSE')\n",
    "insert_into_classroom(201, 80, 'CSE')\n",
    "insert_into_classroom(202, 60, 'CSE')\n",
    "insert_into_classroom(203, 60, 'CSE')\n",
    "insert_into_classroom(301, 60, 'CSE')\n",
    "insert_into_classroom(302, 60, 'CSE')"
   ]
  },
  {
   "cell_type": "code",
   "execution_count": 163,
   "metadata": {},
   "outputs": [],
   "source": [
    "def get_students_enrolled(subject_id, exam_type, academic_year):\n",
    "    query = \"select Students_Enrolled from ENROLLED where Subject_ID = %s and Exam_Type = %s and Academic_Year = %s\"\n",
    "    cursor.execute(query, (subject_id, exam_type, academic_year))\n",
    "    records = cursor.fetchall()\n",
    "    students_enrolled = records[0][0]\n",
    "    return students_enrolled"
   ]
  },
  {
   "cell_type": "code",
   "execution_count": 164,
   "metadata": {},
   "outputs": [],
   "source": [
    "def get_classrooms():\n",
    "    query = \"select Classroom_ID, Capacity, Department_ID from CLASSROOM\"\n",
    "    cursor.execute(query)\n",
    "    records = cursor.fetchall()\n",
    "    classrooms = []\n",
    "    for row in records:\n",
    "        classrooms.append(row)\n",
    "    return classrooms"
   ]
  },
  {
   "cell_type": "code",
   "execution_count": 173,
   "metadata": {},
   "outputs": [
    {
     "name": "stdout",
     "output_type": "stream",
     "text": [
      "101, ISE\n",
      "301, ISE\n",
      "201, ISE\n",
      "302, CSE\n",
      "301, CSE\n",
      "201, CSE\n",
      "203, CSE\n",
      "103, ISE\n"
     ]
    }
   ],
   "source": [
    "students_enrolled = get_students_enrolled('18HSI51', 'regular', 2023)\n",
    "available_classrooms = get_classrooms()\n",
    "used_classrooms = []\n",
    "for i in available_classrooms:\n",
    "    x = random.randint(0, len(available_classrooms)-1)\n",
    "    if(students_enrolled>0 and available_classrooms[x] not in used_classrooms):\n",
    "        if(students_enrolled<=available_classrooms[x][1]):\n",
    "            used_classrooms.append(available_classrooms[x])\n",
    "            # print(available_classrooms[x][0]+', '+available_classrooms[x][2])\n",
    "            students_enrolled = 0\n",
    "        else:\n",
    "            used_classrooms.append(available_classrooms[x])\n",
    "            # print(available_classrooms[x][0]+', '+available_classrooms[x][2])\n",
    "            students_enrolled = students_enrolled - available_classrooms[x][1]\n",
    "for i in used_classrooms:\n",
    "    print(i[0]+', '+i[2])\n"
   ]
  },
  {
   "cell_type": "code",
   "execution_count": 174,
   "metadata": {},
   "outputs": [],
   "source": [
    "def assign_classrooms(subject_id, exam_type, academic_year):\n",
    "    students_enrolled = get_students_enrolled(subject_id, exam_type, academic_year)\n",
    "    available_classrooms = get_classrooms()\n",
    "    used_classrooms = []\n",
    "    for i in available_classrooms:\n",
    "        x = random.randint(0, len(available_classrooms)-1)\n",
    "        if(students_enrolled>0 and available_classrooms[x] not in used_classrooms):\n",
    "            if(students_enrolled<=available_classrooms[x][1]):\n",
    "                used_classrooms.append(available_classrooms[x])\n",
    "                # print(available_classrooms[x][0]+', '+available_classrooms[x][2])\n",
    "                students_enrolled = 0\n",
    "            else:\n",
    "                used_classrooms.append(available_classrooms[x])\n",
    "                # print(available_classrooms[x][0]+', '+available_classrooms[x][2])\n",
    "                students_enrolled = students_enrolled - available_classrooms[x][1]\n",
    "    t = len(used_classrooms)\n",
    "    query = \"update HAS_EXAM set required_invigilators = %s where Subject_ID = %s and Exam_Type = %s and Academic_Year = %s\"\n",
    "    cursor.execute(query, (t, subject_id, exam_type, academic_year))\n",
    "    connection.commit()"
   ]
  },
  {
   "cell_type": "code",
   "execution_count": 175,
   "metadata": {},
   "outputs": [],
   "source": [
    "for i in possible_exams:\n",
    "    assign_classrooms(i[2], i[1], i[0])"
   ]
  },
  {
   "cell_type": "code",
   "execution_count": null,
   "metadata": {},
   "outputs": [],
   "source": []
  }
 ],
 "metadata": {
  "kernelspec": {
   "display_name": "Python 3.9.13 ('tensorflow')",
   "language": "python",
   "name": "python3"
  },
  "language_info": {
   "codemirror_mode": {
    "name": "ipython",
    "version": 3
   },
   "file_extension": ".py",
   "mimetype": "text/x-python",
   "name": "python",
   "nbconvert_exporter": "python",
   "pygments_lexer": "ipython3",
   "version": "3.9.13"
  },
  "orig_nbformat": 4,
  "vscode": {
   "interpreter": {
    "hash": "394790b30aea288f0ec741f95f8af4fb06399bd07c88814afead1534ec90e49c"
   }
  }
 },
 "nbformat": 4,
 "nbformat_minor": 2
}
