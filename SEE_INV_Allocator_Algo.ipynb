{
 "cells": [
  {
   "cell_type": "code",
   "execution_count": 3,
   "metadata": {},
   "outputs": [],
   "source": [
    "import mysql.connector\n",
    "import math\n",
    "import csv"
   ]
  },
  {
   "cell_type": "code",
   "execution_count": 2,
   "metadata": {},
   "outputs": [],
   "source": [
    "connection = mysql.connector.connect(\n",
    "    host=\"localhost\",\n",
    "    database=\"SEE_INV_withflask_tryingalgo\",\n",
    "    user=\"root\",\n",
    "    password=\"root@123\"\n",
    ")"
   ]
  },
  {
   "cell_type": "code",
   "execution_count": 3,
   "metadata": {},
   "outputs": [
    {
     "data": {
      "text/plain": [
       "True"
      ]
     },
     "execution_count": 3,
     "metadata": {},
     "output_type": "execute_result"
    }
   ],
   "source": [
    "connection.is_connected()"
   ]
  },
  {
   "cell_type": "code",
   "execution_count": 4,
   "metadata": {},
   "outputs": [],
   "source": [
    "cursor = connection.cursor()"
   ]
  },
  {
   "cell_type": "code",
   "execution_count": 1,
   "metadata": {},
   "outputs": [
    {
     "name": "stdout",
     "output_type": "stream",
     "text": [
      "Connected to MySQL Server version  8.0.32\n",
      "You're connected to database:  ('see_inv_withflask_tryingalgo',)\n"
     ]
    }
   ],
   "source": [
    "import mysql.connector\n",
    "from mysql.connector import Error\n",
    "\n",
    "try:\n",
    "    connection = mysql.connector.connect(    host=\"localhost\",\n",
    "    database=\"SEE_INV_withflask_tryingalgo\",\n",
    "    user=\"root\",\n",
    "    password=\"root@123\")\n",
    "    if connection.is_connected():\n",
    "        db_Info = connection.get_server_info()\n",
    "        print(\"Connected to MySQL Server version \", db_Info)\n",
    "        cursor = connection.cursor(buffered=True)\n",
    "        cursor.execute(\"select database();\")\n",
    "        record = cursor.fetchone()\n",
    "        print(\"You're connected to database: \", record)\n",
    "\n",
    "except Error as e:\n",
    "    print(\"Error while connecting to MySQL\", e)\n"
   ]
  },
  {
   "cell_type": "code",
   "execution_count": 161,
   "metadata": {},
   "outputs": [
    {
     "name": "stdout",
     "output_type": "stream",
     "text": [
      "('CRM', 'Chethana', '', 'Murthy', 'chethanamurthy@rvce.edu.in', '2', '', 'CSE', 0, 0)\n",
      "('DN', 'Deepa', '', 'Malan', 'deepamalan@rvce.edu.in', '1', '', 'CSE', 0, 0)\n",
      "('KB', 'Badrinath', '', 'KB', 'badrinath.kb@rvce.edu.in', '1', '', 'CSE', 0, 0)\n",
      "('MM', 'Merin', '', 'Meleet', 'merinmeleet@rvce.edu.in', '2', '', 'ISE', 0, 0)\n",
      "('PK', 'Poornima', '', 'Kulkarni', 'poornimak@rvce.edu.in', '2', '', 'ISE', 0, 0)\n",
      "('PT', 'Padmashree', '', 'T', 'padmashreet@rvce.edu.in', '1', '', 'ISE', 0, 0)\n",
      "('RGP', 'Raghavendraprasad', '', 'S', 'raghavendrap@rvce.edu.in', '1', '', 'ISE', 0, 0)\n",
      "('SGR', 'Smitha', '', 'GR', 'smithagr@rvce.edu.in', '1', '', 'ISE', 0, 0)\n",
      "('TD', 'Pratiba', '', 'D', 'pratibad@rvce.edu.in', '2', '', 'CSE', 0, 0)\n"
     ]
    }
   ],
   "source": [
    "query = \"select * from FACULTY\"\n",
    "cursor.execute(query)\n",
    "records = cursor.fetchall()\n",
    "for row in records:\n",
    "    print(row)"
   ]
  },
  {
   "cell_type": "code",
   "execution_count": 107,
   "metadata": {},
   "outputs": [
    {
     "name": "stdout",
     "output_type": "stream",
     "text": [
      "('DN', 'Deepa', '', 'Malan', 'deepamalan@rvce.edu.in', '1', '', 'CSE', 0, 0)\n",
      "('KB', 'Badrinath', '', 'KB', 'badrinath.kb@rvce.edu.in', '1', '', 'CSE', 0, 0)\n",
      "('CRM', 'Chethana', '', 'Murthy', 'chethanamurthy@rvce.edu.in', '2', '', 'CSE', 0, 0)\n",
      "('TD', 'Pratiba', '', 'D', 'pratibad@rvce.edu.in', '2', '', 'CSE', 0, 0)\n",
      "('PT', 'Padmashree', '', 'T', 'padmashreet@rvce.edu.in', '1', '', 'ISE', 0, 0)\n",
      "('RGP', 'Raghavendraprasad', '', 'S', 'raghavendrap@rvce.edu.in', '1', '', 'ISE', 0, 0)\n",
      "('SGR', 'Smitha', '', 'GR', 'smithagr@rvce.edu.in', '1', '', 'ISE', 0, 0)\n",
      "('MM', 'Merin', '', 'Meleet', 'merinmeleet@rvce.edu.in', '2', '', 'ISE', 0, 0)\n",
      "('PK', 'Poornima', '', 'Kulkarni', 'poornimak@rvce.edu.in', '2', '', 'ISE', 0, 0)\n"
     ]
    }
   ],
   "source": [
    "query = \"select * from FACULTY order by Department_ID, Group_ID\"\n",
    "cursor.execute(query)\n",
    "records = cursor.fetchall()\n",
    "for row in records:\n",
    "    print(row)"
   ]
  },
  {
   "cell_type": "code",
   "execution_count": null,
   "metadata": {},
   "outputs": [],
   "source": [
    "def randomly_assign_test():"
   ]
  },
  {
   "cell_type": "code",
   "execution_count": 108,
   "metadata": {},
   "outputs": [],
   "source": [
    "def get_group_per_department(department_id):\n",
    "    query = \"select * from FACULTY where Department_ID = %s order by Group_ID\"\n",
    "    cursor.execute(query, (department_id,))\n",
    "    records = cursor.fetchall()\n",
    "    for row in records:\n",
    "        print(row)\n",
    "\n",
    "def get_facs_group(department_id, group_id):\n",
    "    query = \"select * from FACULTY where Department_ID = %s and Group_ID = %s\"\n",
    "    cursor.execute(query, (department_id, group_id))\n",
    "    records = cursor.fetchall()\n",
    "    for row in records:\n",
    "        increment_invig_count(row[0])\n",
    "        \n",
    "    "
   ]
  },
  {
   "cell_type": "code",
   "execution_count": 17,
   "metadata": {},
   "outputs": [],
   "source": []
  },
  {
   "cell_type": "code",
   "execution_count": 18,
   "metadata": {},
   "outputs": [],
   "source": [
    "iterative_list = [['ISE','1'], ['ISE','2'], ['CSE','1'], ['CSE','2']]"
   ]
  },
  {
   "cell_type": "code",
   "execution_count": 19,
   "metadata": {},
   "outputs": [],
   "source": [
    "import random"
   ]
  },
  {
   "cell_type": "code",
   "execution_count": 109,
   "metadata": {},
   "outputs": [],
   "source": [
    "def allocation(iterative_list):\n",
    "    i = random.randint(0, len(iterative_list)-1)\n",
    "    get_facs_group(iterative_list[i][0], iterative_list[i][1])"
   ]
  },
  {
   "cell_type": "code",
   "execution_count": 21,
   "metadata": {},
   "outputs": [],
   "source": [
    "for i in range(100):\n",
    "    allocation(iterative_list)"
   ]
  },
  {
   "cell_type": "code",
   "execution_count": 110,
   "metadata": {},
   "outputs": [
    {
     "name": "stdout",
     "output_type": "stream",
     "text": [
      "('2023', 'fast_track')\n",
      "('2023', 'makeup')\n",
      "('2023', 'regular')\n"
     ]
    }
   ],
   "source": [
    "query = \"select * from EXAM\"\n",
    "cursor.execute(query)\n",
    "records = cursor.fetchall()\n",
    "for row in records:\n",
    "    print(row)"
   ]
  },
  {
   "cell_type": "code",
   "execution_count": 111,
   "metadata": {},
   "outputs": [
    {
     "name": "stdout",
     "output_type": "stream",
     "text": [
      "[('2023', 'fast_track'), ('2023', 'makeup'), ('2023', 'regular')]\n"
     ]
    }
   ],
   "source": [
    "query = \"select * from EXAM\"\n",
    "cursor.execute(query)\n",
    "records = cursor.fetchall()\n",
    "exams = []\n",
    "for row in records:\n",
    "    exams.append(row)\n",
    "exams = set(exams)\n",
    "exams = list(exams)\n",
    "print(exams)"
   ]
  },
  {
   "cell_type": "code",
   "execution_count": 112,
   "metadata": {},
   "outputs": [
    {
     "name": "stdout",
     "output_type": "stream",
     "text": [
      "[('2', 'ISE'), ('1', 'ISE'), ('2', 'CSE'), ('1', 'CSE')]\n"
     ]
    }
   ],
   "source": [
    "query = \"select Group_ID, Department_ID from FACULTY\"\n",
    "cursor.execute(query)\n",
    "records = cursor.fetchall()\n",
    "answer = []\n",
    "for row in records:\n",
    "    answer.append(row)\n",
    "answer = set(answer)\n",
    "answer = list(answer)\n",
    "print(answer)"
   ]
  },
  {
   "cell_type": "code",
   "execution_count": 114,
   "metadata": {},
   "outputs": [
    {
     "name": "stdout",
     "output_type": "stream",
     "text": [
      "[('18IS55',), ('18IS54',), ('18IS53',), ('18HSI51',), ('18IS52',)]\n"
     ]
    }
   ],
   "source": [
    "query = \"select Subject_ID from SUBJECT\"\n",
    "cursor.execute(query)\n",
    "records = cursor.fetchall()\n",
    "subjects = []\n",
    "for row in records:\n",
    "    subjects.append(row)\n",
    "subjects = set(subjects)\n",
    "subjects = list(subjects)\n",
    "print(subjects)"
   ]
  },
  {
   "cell_type": "code",
   "execution_count": 125,
   "metadata": {},
   "outputs": [
    {
     "name": "stdout",
     "output_type": "stream",
     "text": [
      "['2023', 'fast_track', '18IS55']\n",
      "['2023', 'fast_track', '18IS54']\n",
      "['2023', 'fast_track', '18IS53']\n",
      "['2023', 'fast_track', '18HSI51']\n",
      "['2023', 'fast_track', '18IS52']\n",
      "['2023', 'makeup', '18IS55']\n",
      "['2023', 'makeup', '18IS54']\n",
      "['2023', 'makeup', '18IS53']\n",
      "['2023', 'makeup', '18HSI51']\n",
      "['2023', 'makeup', '18IS52']\n",
      "['2023', 'regular', '18IS55']\n",
      "['2023', 'regular', '18IS54']\n",
      "['2023', 'regular', '18IS53']\n",
      "['2023', 'regular', '18HSI51']\n",
      "['2023', 'regular', '18IS52']\n"
     ]
    }
   ],
   "source": [
    "possible_exams = []\n",
    "for i in exams:\n",
    "    for j in subjects:\n",
    "        possible_exams.append([i[0], i[1], j[0]])\n",
    "for i in possible_exams:\n",
    "    print(i)"
   ]
  },
  {
   "cell_type": "code",
   "execution_count": 126,
   "metadata": {},
   "outputs": [],
   "source": [
    "def insert_into_has_exam(academic_year, exam_type, subject_id,):\n",
    "    query = \"insert into HAS_EXAM(academic_year, exam_type, subject_id) values(%s, %s, %s)\"\n",
    "    cursor.execute(query, (academic_year, exam_type, subject_id))\n",
    "    connection.commit()"
   ]
  },
  {
   "cell_type": "code",
   "execution_count": 127,
   "metadata": {},
   "outputs": [],
   "source": [
    "for i in possible_exams:\n",
    "    insert_into_has_exam(i[0], i[1], i[2])"
   ]
  },
  {
   "cell_type": "code",
   "execution_count": 130,
   "metadata": {},
   "outputs": [],
   "source": [
    "def insert_into_enrolled(academic_year, exam_type, subject_id):\n",
    "    query = \"insert into ENROLLED(academic_year, exam_type, subject_id) values(%s, %s, %s)\"\n",
    "    cursor.execute(query, (academic_year, exam_type, subject_id))\n",
    "    connection.commit()"
   ]
  },
  {
   "cell_type": "code",
   "execution_count": 131,
   "metadata": {},
   "outputs": [],
   "source": [
    "for i in possible_exams:\n",
    "    insert_into_enrolled(i[0], i[1], i[2])"
   ]
  },
  {
   "cell_type": "code",
   "execution_count": 132,
   "metadata": {},
   "outputs": [],
   "source": [
    "def update_enrolled(subject_id, students_enrolled, exam_type, academic_year):\n",
    "    query = \"update ENROLLED set students_enrolled = %s where Subject_ID = %s and Exam_Type = %s and Academic_Year = %s\"\n",
    "    cursor.execute(query, (students_enrolled, subject_id, exam_type, academic_year))\n",
    "    connection.commit()"
   ]
  },
  {
   "cell_type": "code",
   "execution_count": 136,
   "metadata": {},
   "outputs": [],
   "source": [
    "def update_has_exam(subject_id, exam_type, academic_year, required_invigilators):\n",
    "    query = \"update HAS_EXAM set required_invigilators = %s where Subject_ID = %s and Exam_Type = %s and Academic_Year = %s\"\n",
    "    cursor.execute(query, (required_invigilators, subject_id, exam_type, academic_year))\n",
    "    connection.commit()"
   ]
  },
  {
   "cell_type": "code",
   "execution_count": 137,
   "metadata": {},
   "outputs": [],
   "source": [
    "# def required_no_invigilators(subject_id, exam_type, academic_year):\n",
    "#     query = \"select Students_Enrolled from ENROLLED where Subject_ID = %s and Exam_Type = %s and Academic_Year = %s\"\n",
    "#     cursor.execute(query, (subject_id, exam_type, academic_year))\n",
    "#     records = cursor.fetchall()\n",
    "#     students_enrolled = records[0][0]\n",
    "#     no_of_invigilators = math.ceil(students_enrolled/30)\n",
    "#     update_has_exam(subject_id, exam_type, academic_year, no_of_invigilators)"
   ]
  },
  {
   "cell_type": "code",
   "execution_count": 138,
   "metadata": {},
   "outputs": [],
   "source": [
    "# for i in possible_exams:\n",
    "#     required_no_invigilators(i[2], i[1], i[0])"
   ]
  },
  {
   "cell_type": "code",
   "execution_count": 158,
   "metadata": {},
   "outputs": [],
   "source": [
    "def insert_into_classroom(classroom_id, capacity, department_id):\n",
    "    query = \"insert into CLASSROOM values(%s, %s, %s)\"\n",
    "    cursor.execute(query, (classroom_id, capacity, department_id))\n",
    "    connection.commit()"
   ]
  },
  {
   "cell_type": "code",
   "execution_count": 162,
   "metadata": {},
   "outputs": [],
   "source": [
    "insert_into_classroom(101, 60, 'ISE')\n",
    "insert_into_classroom(102, 60, 'ISE')\n",
    "insert_into_classroom(103, 60, 'ISE')\n",
    "insert_into_classroom(104, 80, 'ISE')\n",
    "insert_into_classroom(201, 60, 'ISE')\n",
    "insert_into_classroom(202, 60, 'ISE')\n",
    "insert_into_classroom(301, 60, 'ISE')\n",
    "insert_into_classroom(101, 60, 'CSE')\n",
    "insert_into_classroom(102, 60, 'CSE')\n",
    "insert_into_classroom(103, 80, 'CSE')\n",
    "insert_into_classroom(201, 80, 'CSE')\n",
    "insert_into_classroom(202, 60, 'CSE')\n",
    "insert_into_classroom(203, 60, 'CSE')\n",
    "insert_into_classroom(301, 60, 'CSE')\n",
    "insert_into_classroom(302, 60, 'CSE')"
   ]
  },
  {
   "cell_type": "code",
   "execution_count": 163,
   "metadata": {},
   "outputs": [],
   "source": [
    "def get_students_enrolled(subject_id, exam_type, academic_year):\n",
    "    query = \"select Students_Enrolled from ENROLLED where Subject_ID = %s and Exam_Type = %s and Academic_Year = %s\"\n",
    "    cursor.execute(query, (subject_id, exam_type, academic_year))\n",
    "    records = cursor.fetchall()\n",
    "    students_enrolled = records[0][0]\n",
    "    return students_enrolled"
   ]
  },
  {
   "cell_type": "code",
   "execution_count": 164,
   "metadata": {},
   "outputs": [],
   "source": [
    "def get_classrooms():\n",
    "    query = \"select Classroom_ID, Capacity, Department_ID from CLASSROOM\"\n",
    "    cursor.execute(query)\n",
    "    records = cursor.fetchall()\n",
    "    classrooms = []\n",
    "    for row in records:\n",
    "        classrooms.append(row)\n",
    "    return classrooms"
   ]
  },
  {
   "cell_type": "code",
   "execution_count": 173,
   "metadata": {},
   "outputs": [
    {
     "name": "stdout",
     "output_type": "stream",
     "text": [
      "101, ISE\n",
      "301, ISE\n",
      "201, ISE\n",
      "302, CSE\n",
      "301, CSE\n",
      "201, CSE\n",
      "203, CSE\n",
      "103, ISE\n"
     ]
    }
   ],
   "source": [
    "students_enrolled = get_students_enrolled('18HSI51', 'regular', 2023)\n",
    "available_classrooms = get_classrooms()\n",
    "used_classrooms = []\n",
    "for i in available_classrooms:\n",
    "    x = random.randint(0, len(available_classrooms)-1)\n",
    "    if(students_enrolled>0 and available_classrooms[x] not in used_classrooms):\n",
    "        if(students_enrolled<=available_classrooms[x][1]):\n",
    "            used_classrooms.append(available_classrooms[x])\n",
    "            # print(available_classrooms[x][0]+', '+available_classrooms[x][2])\n",
    "            students_enrolled = 0\n",
    "        else:\n",
    "            used_classrooms.append(available_classrooms[x])\n",
    "            # print(available_classrooms[x][0]+', '+available_classrooms[x][2])\n",
    "            students_enrolled = students_enrolled - available_classrooms[x][1]\n",
    "for i in used_classrooms:\n",
    "    print(i[0]+', '+i[2])\n"
   ]
  },
  {
   "cell_type": "code",
   "execution_count": 176,
   "metadata": {},
   "outputs": [],
   "source": [
    "def assign_classrooms(subject_id, exam_type, academic_year):\n",
    "    students_enrolled = get_students_enrolled(subject_id, exam_type, academic_year)\n",
    "    available_classrooms = get_classrooms()\n",
    "    used_classrooms = []\n",
    "    for i in available_classrooms:\n",
    "        x = random.randint(0, len(available_classrooms)-1)\n",
    "        if(students_enrolled>0 and available_classrooms[x] not in used_classrooms):\n",
    "            if(students_enrolled<=available_classrooms[x][1]):\n",
    "                used_classrooms.append(available_classrooms[x])\n",
    "                # print(available_classrooms[x][0]+', '+available_classrooms[x][2])\n",
    "                students_enrolled = 0\n",
    "            else:\n",
    "                used_classrooms.append(available_classrooms[x])\n",
    "                # print(available_classrooms[x][0]+', '+available_classrooms[x][2])\n",
    "                students_enrolled = students_enrolled - available_classrooms[x][1]\n",
    "    t = len(used_classrooms)\n",
    "    query = \"update HAS_EXAM set required_invigilators = %s where Subject_ID = %s and Exam_Type = %s and Academic_Year = %s\"\n",
    "    cursor.execute(query, (t, subject_id, exam_type, academic_year))\n",
    "    connection.commit()\n",
    "    for i in used_classrooms:\n",
    "        query = \"insert into assigned_classrooms values(%s, %s, %s, %s, %s)\"\n",
    "        cursor.execute(query, (i[0], subject_id, exam_type, academic_year, i[2]))\n"
   ]
  },
  {
   "cell_type": "code",
   "execution_count": 177,
   "metadata": {},
   "outputs": [],
   "source": [
    "for i in possible_exams:\n",
    "    assign_classrooms(i[2], i[1], i[0])"
   ]
  },
  {
   "cell_type": "code",
   "execution_count": 190,
   "metadata": {},
   "outputs": [],
   "source": [
    "def get_groups():\n",
    "    query = \"select Group_ID, Department_ID, Invig_count from FACULTY\"\n",
    "    cursor.execute(query)\n",
    "    records = cursor.fetchall()\n",
    "    answer = []\n",
    "    for row in records:\n",
    "        answer.append(row)\n",
    "    answer = set(answer)\n",
    "    answer = list(answer)\n",
    "    return answer"
   ]
  },
  {
   "cell_type": "code",
   "execution_count": 183,
   "metadata": {},
   "outputs": [],
   "source": [
    "def get_invig_count(faculty_id, department_id):\n",
    "    query = \"select Invig_count from FACULTY where Faculty_ID = %s and Department_ID = %s\"\n",
    "    cursor.execute(query, (faculty_id, department_id))\n",
    "    records = cursor.fetchall()\n",
    "    invig_count = records[0][0]\n",
    "    return invig_count"
   ]
  },
  {
   "cell_type": "code",
   "execution_count": 184,
   "metadata": {},
   "outputs": [],
   "source": [
    "def get_faculties_in_group(group_id, department_id):\n",
    "    query = \"select Faculty_ID from FACULTY where Group_ID = %s and Department_ID = %s\"\n",
    "    cursor.execute(query, (group_id, department_id))\n",
    "    records = cursor.fetchall()\n",
    "    faculties = []\n",
    "    for row in records:\n",
    "        faculties.append(row[0])\n",
    "    return faculties"
   ]
  },
  {
   "cell_type": "code",
   "execution_count": 193,
   "metadata": {},
   "outputs": [],
   "source": [
    "groups = get_groups()"
   ]
  },
  {
   "cell_type": "code",
   "execution_count": 252,
   "metadata": {},
   "outputs": [],
   "source": [
    "def assign_faculty_classroom(faculty_id, academic_year, exam_type, classroom_id, department_id, subject_id):\n",
    "    query = \"insert into invigilates values(%s, %s, %s, %s, %s, %s)\"\n",
    "    cursor.execute(query, (faculty_id, academic_year, exam_type, classroom_id, department_id, subject_id))\n",
    "    connection.commit()"
   ]
  },
  {
   "cell_type": "code",
   "execution_count": 253,
   "metadata": {},
   "outputs": [],
   "source": [
    "def get_classrooms_assigned():\n",
    "    query = \"select * from assigned_classrooms\"\n",
    "    cursor.execute(query)\n",
    "    records = cursor.fetchall()\n",
    "    classrooms = []\n",
    "    for row in records:\n",
    "        classrooms.append(row)\n",
    "    return classrooms"
   ]
  },
  {
   "cell_type": "code",
   "execution_count": 254,
   "metadata": {},
   "outputs": [],
   "source": [
    "classrooms_to_be_assigned = get_classrooms_assigned()"
   ]
  },
  {
   "cell_type": "code",
   "execution_count": 259,
   "metadata": {},
   "outputs": [],
   "source": [
    "def increment_invig_count(faculty_id, department_id):\n",
    "    query = \"update FACULTY set Invig_count = Invig_count + 1 where Faculty_ID = %s and Department_ID = %s\"\n",
    "    cursor.execute(query, (faculty_id,department_id))\n",
    "    connection.commit()"
   ]
  },
  {
   "cell_type": "code",
   "execution_count": 260,
   "metadata": {},
   "outputs": [],
   "source": [
    "def group_gets_assigned(classrooms):\n",
    "    y = random.sample(range(0,len(classrooms)), len(classrooms)-1)\n",
    "    while(len(y)!=0):\n",
    "        groups = get_groups()\n",
    "        groups.sort(key = lambda x: x[2])\n",
    "        x = random.randint(0,3)\n",
    "        faculties_group = get_faculties_in_group(groups[x][0], groups[x][1])\n",
    "        for i in faculties_group:\n",
    "            print(i)\n",
    "            if len(y)==0:\n",
    "                break\n",
    "            t = y.pop()\n",
    "            print(classrooms[t][3])\n",
    "            print(classrooms[t][2])\n",
    "            print(classrooms[t][0])\n",
    "            print(classrooms[t][4])\n",
    "            print(groups[x][1])\n",
    "            assign_faculty_classroom(i, classrooms[t][3], classrooms[t][2], classrooms[t][0], classrooms[t][4], classrooms[t][1])\n",
    "            increment_invig_count(i, groups[x][1])"
   ]
  },
  {
   "cell_type": "code",
   "execution_count": 262,
   "metadata": {},
   "outputs": [
    {
     "name": "stdout",
     "output_type": "stream",
     "text": [
      "CRM\n",
      "2023\n",
      "regular\n",
      "102\n",
      "ISE\n",
      "CSE\n",
      "TD\n",
      "2023\n",
      "regular\n",
      "104\n",
      "ISE\n",
      "CSE\n",
      "PT\n",
      "2023\n",
      "makeup\n",
      "202\n",
      "CSE\n",
      "ISE\n",
      "RGP\n",
      "2023\n",
      "fast_track\n",
      "301\n",
      "ISE\n",
      "ISE\n",
      "SGR\n",
      "2023\n",
      "fast_track\n",
      "104\n",
      "ISE\n",
      "ISE\n",
      "CRM\n",
      "2023\n",
      "makeup\n",
      "201\n",
      "CSE\n",
      "CSE\n",
      "TD\n",
      "2023\n",
      "regular\n",
      "104\n",
      "ISE\n",
      "CSE\n",
      "DN\n",
      "2023\n",
      "makeup\n",
      "103\n",
      "CSE\n",
      "CSE\n",
      "KB\n",
      "2023\n",
      "regular\n",
      "201\n",
      "CSE\n",
      "CSE\n",
      "DN\n",
      "2023\n",
      "regular\n",
      "201\n",
      "ISE\n",
      "CSE\n",
      "KB\n",
      "2023\n",
      "makeup\n",
      "302\n",
      "CSE\n",
      "CSE\n",
      "CRM\n",
      "2023\n",
      "makeup\n",
      "202\n",
      "CSE\n",
      "CSE\n",
      "TD\n",
      "2023\n",
      "regular\n",
      "202\n",
      "CSE\n",
      "CSE\n",
      "MM\n",
      "2023\n",
      "fast_track\n",
      "302\n",
      "CSE\n",
      "ISE\n",
      "PK\n",
      "2023\n",
      "regular\n",
      "103\n",
      "ISE\n",
      "ISE\n",
      "PT\n",
      "2023\n",
      "regular\n",
      "301\n",
      "ISE\n",
      "ISE\n",
      "RGP\n",
      "2023\n",
      "regular\n",
      "202\n",
      "CSE\n",
      "ISE\n",
      "SGR\n",
      "2023\n",
      "fast_track\n",
      "202\n",
      "CSE\n",
      "ISE\n",
      "MM\n",
      "2023\n",
      "regular\n",
      "201\n",
      "CSE\n",
      "ISE\n",
      "PK\n",
      "2023\n",
      "makeup\n",
      "101\n",
      "CSE\n",
      "ISE\n",
      "PT\n",
      "2023\n",
      "regular\n",
      "202\n",
      "ISE\n",
      "ISE\n",
      "RGP\n",
      "2023\n",
      "regular\n",
      "102\n",
      "ISE\n",
      "ISE\n",
      "SGR\n",
      "2023\n",
      "regular\n",
      "103\n",
      "CSE\n",
      "ISE\n",
      "DN\n",
      "2023\n",
      "regular\n",
      "301\n",
      "ISE\n",
      "CSE\n",
      "KB\n",
      "2023\n",
      "regular\n",
      "301\n",
      "ISE\n",
      "CSE\n",
      "DN\n",
      "2023\n",
      "fast_track\n",
      "101\n",
      "CSE\n",
      "CSE\n",
      "KB\n",
      "2023\n",
      "regular\n",
      "101\n",
      "ISE\n",
      "CSE\n",
      "CRM\n",
      "2023\n",
      "regular\n",
      "101\n",
      "ISE\n",
      "CSE\n",
      "TD\n",
      "2023\n",
      "makeup\n",
      "301\n",
      "ISE\n",
      "CSE\n"
     ]
    }
   ],
   "source": [
    "group_gets_assigned(classrooms_to_be_assigned)"
   ]
  },
  {
   "cell_type": "code",
   "execution_count": 264,
   "metadata": {},
   "outputs": [],
   "source": [
    "import matplotlib.pyplot as plt\n",
    "%matplotlib inline"
   ]
  },
  {
   "cell_type": "code",
   "execution_count": 266,
   "metadata": {},
   "outputs": [
    {
     "name": "stdout",
     "output_type": "stream",
     "text": [
      "Plotting bar graph for invig count to respective faculty\n"
     ]
    },
    {
     "data": {
      "image/png": "[encoded data removed]",
      "text/plain": [
       "<Figure size 432x288 with 1 Axes>"
      ]
     },
     "metadata": {
      "needs_background": "light"
     },
     "output_type": "display_data"
    }
   ],
   "source": [
    "print(\"Plotting bar graph for invig count to respective faculty\")\n",
    "query = \"select Faculty_ID, Invig_count from FACULTY\"\n",
    "cursor.execute(query)\n",
    "records = cursor.fetchall()\n",
    "faculty = []\n",
    "invig_count = []\n",
    "for row in records:\n",
    "    faculty.append(row[0])\n",
    "    invig_count.append(row[1])\n",
    "plt.bar(faculty, invig_count)\n",
    "plt.xlabel(\"Faculty ID\")\n",
    "plt.ylabel(\"Invigilator Count\")\n",
    "plt.show()"
   ]
  },
  {
   "cell_type": "code",
   "execution_count": 267,
   "metadata": {},
   "outputs": [],
   "source": [
    "update_enrolled('18HSI51', 500, 'regular', '2023')\n",
    "update_enrolled('18IS52', 200, 'regular', '2023')\n",
    "update_enrolled('18IS53', 200, 'regular', '2023')\n",
    "update_enrolled('18IS54', 200, 'regular', '2023')\n",
    "update_enrolled('18IS55', 200, 'regular', '2023')\n",
    "update_enrolled('18HSI51', 20, 'fast_track', '2023')\n",
    "update_enrolled('18IS52', 40, 'fast_track', '2023')\n",
    "update_enrolled('18IS53', 30, 'fast_track', '2023')\n",
    "update_enrolled('18IS54', 20, 'fast_track', '2023')\n",
    "update_enrolled('18IS55', 10, 'fast_track', '2023')\n",
    "update_enrolled('18HSI51', 150, 'makeup', '2023')\n",
    "update_enrolled('18IS52', 80, 'makeup', '2023')\n",
    "update_enrolled('18IS53', 10, 'makeup', '2023')\n",
    "update_enrolled('18IS54', 40, 'makeup', '2023')\n",
    "update_enrolled('18IS55', 40, 'makeup', '2023')"
   ]
  },
  {
   "cell_type": "code",
   "execution_count": 9,
   "metadata": {},
   "outputs": [
    {
     "name": "stdout",
     "output_type": "stream",
     "text": [
      "getting entries, and putting them as csv file\n"
     ]
    }
   ],
   "source": [
    "print(\"getting entries, and putting them as csv file\")\n",
    "query = \"select * from faculty\"\n",
    "cursor.execute(query)\n",
    "records = cursor.fetchall()\n",
    "with open('faculty.csv', 'w') as f:\n",
    "    writer = csv.writer(f)\n",
    "    writer.writerow([i[0] for i in cursor.description])\n",
    "    writer.writerows(records)\n"
   ]
  },
  {
   "cell_type": "code",
   "execution_count": null,
   "metadata": {},
   "outputs": [],
   "source": []
  }
 ],
 "metadata": {
  "kernelspec": {
   "display_name": "Python 3.9.13 ('tensorflow')",
   "language": "python",
   "name": "python3"
  },
  "language_info": {
   "codemirror_mode": {
    "name": "ipython",
    "version": 3
   },
   "file_extension": ".py",
   "mimetype": "text/x-python",
   "name": "python",
   "nbconvert_exporter": "python",
   "pygments_lexer": "ipython3",
   "version": "3.9.13"
  },
  "orig_nbformat": 4,
  "vscode": {
   "interpreter": {
    "hash": "394790b30aea288f0ec741f95f8af4fb06399bd07c88814afead1534ec90e49c"
   }
  }
 },
 "nbformat": 4,
 "nbformat_minor": 2
}
