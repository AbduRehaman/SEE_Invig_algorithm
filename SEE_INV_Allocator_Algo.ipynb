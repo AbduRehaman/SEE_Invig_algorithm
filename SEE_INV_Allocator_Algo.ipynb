{
 "cells": [
  {
   "cell_type": "code",
   "execution_count": 104,
   "metadata": {},
   "outputs": [],
   "source": [
    "import mysql.connector\n",
    "import math"
   ]
  },
  {
   "cell_type": "code",
   "execution_count": 3,
   "metadata": {},
   "outputs": [],
   "source": [
    "connection = mysql.connector.connect(\n",
    "    host=\"localhost\",\n",
    "    database=\"SEE_INV\",\n",
    "    user=\"root\",\n",
    "    password=\"root@123\"\n",
    ")"
   ]
  },
  {
   "cell_type": "code",
   "execution_count": 3,
   "metadata": {},
   "outputs": [
    {
     "data": {
      "text/plain": [
       "True"
      ]
     },
     "execution_count": 3,
     "metadata": {},
     "output_type": "execute_result"
    }
   ],
   "source": [
    "connection.is_connected()"
   ]
  },
  {
   "cell_type": "code",
   "execution_count": 4,
   "metadata": {},
   "outputs": [],
   "source": [
    "cursor = connection.cursor()"
   ]
  },
  {
   "cell_type": "code",
   "execution_count": 243,
   "metadata": {},
   "outputs": [
    {
     "name": "stdout",
     "output_type": "stream",
     "text": [
      "Connected to MySQL Server version  8.0.31\n",
      "You're connected to database:  ('see_inv',)\n"
     ]
    }
   ],
   "source": [
    "import mysql.connector\n",
    "from mysql.connector import Error\n",
    "\n",
    "try:\n",
    "    connection = mysql.connector.connect(    host=\"localhost\",\n",
    "    database=\"SEE_INV\",\n",
    "    user=\"root\",\n",
    "    password=\"root@123\")\n",
    "    if connection.is_connected():\n",
    "        db_Info = connection.get_server_info()\n",
    "        print(\"Connected to MySQL Server version \", db_Info)\n",
    "        cursor = connection.cursor(buffered=True)\n",
    "        cursor.execute(\"select database();\")\n",
    "        record = cursor.fetchone()\n",
    "        print(\"You're connected to database: \", record)\n",
    "\n",
    "except Error as e:\n",
    "    print(\"Error while connecting to MySQL\", e)\n"
   ]
  },
  {
   "cell_type": "code",
   "execution_count": 161,
   "metadata": {},
   "outputs": [
    {
     "name": "stdout",
     "output_type": "stream",
     "text": [
      "('CRM', 'Chethana', '', 'Murthy', 'chethanamurthy@rvce.edu.in', '2', '', 'CSE', 0, 0)\n",
      "('DN', 'Deepa', '', 'Malan', 'deepamalan@rvce.edu.in', '1', '', 'CSE', 0, 0)\n",
      "('KB', 'Badrinath', '', 'KB', 'badrinath.kb@rvce.edu.in', '1', '', 'CSE', 0, 0)\n",
      "('MM', 'Merin', '', 'Meleet', 'merinmeleet@rvce.edu.in', '2', '', 'ISE', 0, 0)\n",
      "('PK', 'Poornima', '', 'Kulkarni', 'poornimak@rvce.edu.in', '2', '', 'ISE', 0, 0)\n",
      "('PT', 'Padmashree', '', 'T', 'padmashreet@rvce.edu.in', '1', '', 'ISE', 0, 0)\n",
      "('RGP', 'Raghavendraprasad', '', 'S', 'raghavendrap@rvce.edu.in', '1', '', 'ISE', 0, 0)\n",
      "('SGR', 'Smitha', '', 'GR', 'smithagr@rvce.edu.in', '1', '', 'ISE', 0, 0)\n",
      "('TD', 'Pratiba', '', 'D', 'pratibad@rvce.edu.in', '2', '', 'CSE', 0, 0)\n"
     ]
    }
   ],
   "source": [
    "query = \"select * from FACULTY\"\n",
    "cursor.execute(query)\n",
    "records = cursor.fetchall()\n",
    "for row in records:\n",
    "    print(row)"
   ]
  },
  {
   "cell_type": "code",
   "execution_count": 107,
   "metadata": {},
   "outputs": [
    {
     "name": "stdout",
     "output_type": "stream",
     "text": [
      "('DN', 'Deepa', '', 'Malan', 'deepamalan@rvce.edu.in', '1', '', 'CSE', 0, 0)\n",
      "('KB', 'Badrinath', '', 'KB', 'badrinath.kb@rvce.edu.in', '1', '', 'CSE', 0, 0)\n",
      "('CRM', 'Chethana', '', 'Murthy', 'chethanamurthy@rvce.edu.in', '2', '', 'CSE', 0, 0)\n",
      "('TD', 'Pratiba', '', 'D', 'pratibad@rvce.edu.in', '2', '', 'CSE', 0, 0)\n",
      "('PT', 'Padmashree', '', 'T', 'padmashreet@rvce.edu.in', '1', '', 'ISE', 0, 0)\n",
      "('RGP', 'Raghavendraprasad', '', 'S', 'raghavendrap@rvce.edu.in', '1', '', 'ISE', 0, 0)\n",
      "('SGR', 'Smitha', '', 'GR', 'smithagr@rvce.edu.in', '1', '', 'ISE', 0, 0)\n",
      "('MM', 'Merin', '', 'Meleet', 'merinmeleet@rvce.edu.in', '2', '', 'ISE', 0, 0)\n",
      "('PK', 'Poornima', '', 'Kulkarni', 'poornimak@rvce.edu.in', '2', '', 'ISE', 0, 0)\n"
     ]
    }
   ],
   "source": [
    "query = \"select * from FACULTY order by Department_ID, Group_ID\"\n",
    "cursor.execute(query)\n",
    "records = cursor.fetchall()\n",
    "for row in records:\n",
    "    print(row)"
   ]
  },
  {
   "cell_type": "code",
   "execution_count": null,
   "metadata": {},
   "outputs": [],
   "source": [
    "def randomly_assign_test():"
   ]
  },
  {
   "cell_type": "code",
   "execution_count": 108,
   "metadata": {},
   "outputs": [],
   "source": [
    "def get_group_per_department(department_id):\n",
    "    query = \"select * from FACULTY where Department_ID = %s order by Group_ID\"\n",
    "    cursor.execute(query, (department_id,))\n",
    "    records = cursor.fetchall()\n",
    "    for row in records:\n",
    "        print(row)\n",
    "\n",
    "def get_facs_group(department_id, group_id):\n",
    "    query = \"select * from FACULTY where Department_ID = %s and Group_ID = %s\"\n",
    "    cursor.execute(query, (department_id, group_id))\n",
    "    records = cursor.fetchall()\n",
    "    for row in records:\n",
    "        increment_invig_count(row[0])\n",
    "        \n",
    "    "
   ]
  },
  {
   "cell_type": "code",
   "execution_count": 17,
   "metadata": {},
   "outputs": [],
   "source": []
  },
  {
   "cell_type": "code",
   "execution_count": 18,
   "metadata": {},
   "outputs": [],
   "source": [
    "iterative_list = [['ISE','1'], ['ISE','2'], ['CSE','1'], ['CSE','2']]"
   ]
  },
  {
   "cell_type": "code",
   "execution_count": 19,
   "metadata": {},
   "outputs": [],
   "source": [
    "import random"
   ]
  },
  {
   "cell_type": "code",
   "execution_count": 109,
   "metadata": {},
   "outputs": [],
   "source": [
    "def allocation(iterative_list):\n",
    "    i = random.randint(0, len(iterative_list)-1)\n",
    "    get_facs_group(iterative_list[i][0], iterative_list[i][1])"
   ]
  },
  {
   "cell_type": "code",
   "execution_count": 21,
   "metadata": {},
   "outputs": [],
   "source": [
    "for i in range(100):\n",
    "    allocation(iterative_list)"
   ]
  },
  {
   "cell_type": "code",
   "execution_count": 110,
   "metadata": {},
   "outputs": [
    {
     "name": "stdout",
     "output_type": "stream",
     "text": [
      "('2023', 'fast_track')\n",
      "('2023', 'makeup')\n",
      "('2023', 'regular')\n"
     ]
    }
   ],
   "source": [
    "query = \"select * from EXAM\"\n",
    "cursor.execute(query)\n",
    "records = cursor.fetchall()\n",
    "for row in records:\n",
    "    print(row)"
   ]
  },
  {
   "cell_type": "code",
   "execution_count": 111,
   "metadata": {},
   "outputs": [
    {
     "name": "stdout",
     "output_type": "stream",
     "text": [
      "[('2023', 'fast_track'), ('2023', 'makeup'), ('2023', 'regular')]\n"
     ]
    }
   ],
   "source": [
    "query = \"select * from EXAM\"\n",
    "cursor.execute(query)\n",
    "records = cursor.fetchall()\n",
    "exams = []\n",
    "for row in records:\n",
    "    exams.append(row)\n",
    "exams = set(exams)\n",
    "exams = list(exams)\n",
    "print(exams)"
   ]
  },
  {
   "cell_type": "code",
   "execution_count": 112,
   "metadata": {},
   "outputs": [
    {
     "name": "stdout",
     "output_type": "stream",
     "text": [
      "[('2', 'ISE'), ('1', 'ISE'), ('2', 'CSE'), ('1', 'CSE')]\n"
     ]
    }
   ],
   "source": [
    "query = \"select Group_ID, Department_ID from FACULTY\"\n",
    "cursor.execute(query)\n",
    "records = cursor.fetchall()\n",
    "answer = []\n",
    "for row in records:\n",
    "    answer.append(row)\n",
    "answer = set(answer)\n",
    "answer = list(answer)\n",
    "print(answer)"
   ]
  },
  {
   "cell_type": "code",
   "execution_count": 114,
   "metadata": {},
   "outputs": [
    {
     "name": "stdout",
     "output_type": "stream",
     "text": [
      "[('18IS55',), ('18IS54',), ('18IS53',), ('18HSI51',), ('18IS52',)]\n"
     ]
    }
   ],
   "source": [
    "query = \"select Subject_ID from SUBJECT\"\n",
    "cursor.execute(query)\n",
    "records = cursor.fetchall()\n",
    "subjects = []\n",
    "for row in records:\n",
    "    subjects.append(row)\n",
    "subjects = set(subjects)\n",
    "subjects = list(subjects)\n",
    "print(subjects)"
   ]
  },
  {
   "cell_type": "code",
   "execution_count": 125,
   "metadata": {},
   "outputs": [
    {
     "name": "stdout",
     "output_type": "stream",
     "text": [
      "['2023', 'fast_track', '18IS55']\n",
      "['2023', 'fast_track', '18IS54']\n",
      "['2023', 'fast_track', '18IS53']\n",
      "['2023', 'fast_track', '18HSI51']\n",
      "['2023', 'fast_track', '18IS52']\n",
      "['2023', 'makeup', '18IS55']\n",
      "['2023', 'makeup', '18IS54']\n",
      "['2023', 'makeup', '18IS53']\n",
      "['2023', 'makeup', '18HSI51']\n",
      "['2023', 'makeup', '18IS52']\n",
      "['2023', 'regular', '18IS55']\n",
      "['2023', 'regular', '18IS54']\n",
      "['2023', 'regular', '18IS53']\n",
      "['2023', 'regular', '18HSI51']\n",
      "['2023', 'regular', '18IS52']\n"
     ]
    }
   ],
   "source": [
    "possible_exams = []\n",
    "for i in exams:\n",
    "    for j in subjects:\n",
    "        possible_exams.append([i[0], i[1], j[0]])\n",
    "for i in possible_exams:\n",
    "    print(i)"
   ]
  },
  {
   "cell_type": "code",
   "execution_count": 126,
   "metadata": {},
   "outputs": [],
   "source": [
    "def insert_into_has_exam(academic_year, exam_type, subject_id,):\n",
    "    query = \"insert into HAS_EXAM(academic_year, exam_type, subject_id) values(%s, %s, %s)\"\n",
    "    cursor.execute(query, (academic_year, exam_type, subject_id))\n",
    "    connection.commit()"
   ]
  },
  {
   "cell_type": "code",
   "execution_count": 127,
   "metadata": {},
   "outputs": [],
   "source": [
    "for i in possible_exams:\n",
    "    insert_into_has_exam(i[0], i[1], i[2])"
   ]
  },
  {
   "cell_type": "code",
   "execution_count": 130,
   "metadata": {},
   "outputs": [],
   "source": [
    "def insert_into_enrolled(academic_year, exam_type, subject_id):\n",
    "    query = \"insert into ENROLLED(academic_year, exam_type, subject_id) values(%s, %s, %s)\"\n",
    "    cursor.execute(query, (academic_year, exam_type, subject_id))\n",
    "    connection.commit()"
   ]
  },
  {
   "cell_type": "code",
   "execution_count": 131,
   "metadata": {},
   "outputs": [],
   "source": [
    "for i in possible_exams:\n",
    "    insert_into_enrolled(i[0], i[1], i[2])"
   ]
  },
  {
   "cell_type": "code",
   "execution_count": 132,
   "metadata": {},
   "outputs": [],
   "source": [
    "def update_enrolled(subject_id, students_enrolled, exam_type, academic_year):\n",
    "    query = \"update ENROLLED set students_enrolled = %s where Subject_ID = %s and Exam_Type = %s and Academic_Year = %s\"\n",
    "    cursor.execute(query, (students_enrolled, subject_id, exam_type, academic_year))\n",
    "    connection.commit()"
   ]
  },
  {
   "cell_type": "code",
   "execution_count": 136,
   "metadata": {},
   "outputs": [],
   "source": [
    "def update_has_exam(subject_id, exam_type, academic_year, required_invigilators):\n",
    "    query = \"update HAS_EXAM set required_invigilators = %s where Subject_ID = %s and Exam_Type = %s and Academic_Year = %s\"\n",
    "    cursor.execute(query, (required_invigilators, subject_id, exam_type, academic_year))\n",
    "    connection.commit()"
   ]
  },
  {
   "cell_type": "code",
   "execution_count": 137,
   "metadata": {},
   "outputs": [],
   "source": [
    "def required_no_invigilators(subject_id, exam_type, academic_year):\n",
    "    query = \"select Students_Enrolled from ENROLLED where Subject_ID = %s and Exam_Type = %s and Academic_Year = %s\"\n",
    "    cursor.execute(query, (subject_id, exam_type, academic_year))\n",
    "    records = cursor.fetchall()\n",
    "    students_enrolled = records[0][0]\n",
    "    no_of_invigilators = math.ceil(students_enrolled/30)\n",
    "    update_has_exam(subject_id, exam_type, academic_year, no_of_invigilators)"
   ]
  },
  {
   "cell_type": "code",
   "execution_count": 138,
   "metadata": {},
   "outputs": [],
   "source": [
    "for i in possible_exams:\n",
    "    required_no_invigilators(i[2], i[1], i[0])"
   ]
  },
  {
   "cell_type": "code",
   "execution_count": 158,
   "metadata": {},
   "outputs": [],
   "source": [
    "def insert_into_classroom(classroom_id, capacity, department_id):\n",
    "    query = \"insert into CLASSROOM values(%s, %s, %s)\"\n",
    "    cursor.execute(query, (classroom_id, capacity, department_id))\n",
    "    connection.commit()"
   ]
  },
  {
   "cell_type": "code",
   "execution_count": 162,
   "metadata": {},
   "outputs": [],
   "source": [
    "insert_into_classroom(101, 60, 'ISE')\n",
    "insert_into_classroom(102, 60, 'ISE')\n",
    "insert_into_classroom(103, 60, 'ISE')\n",
    "insert_into_classroom(104, 80, 'ISE')\n",
    "insert_into_classroom(201, 60, 'ISE')\n",
    "insert_into_classroom(202, 60, 'ISE')\n",
    "insert_into_classroom(301, 60, 'ISE')\n",
    "insert_into_classroom(101, 60, 'CSE')\n",
    "insert_into_classroom(102, 60, 'CSE')\n",
    "insert_into_classroom(103, 80, 'CSE')\n",
    "insert_into_classroom(201, 80, 'CSE')\n",
    "insert_into_classroom(202, 60, 'CSE')\n",
    "insert_into_classroom(203, 60, 'CSE')\n",
    "insert_into_classroom(301, 60, 'CSE')\n",
    "insert_into_classroom(302, 60, 'CSE')"
   ]
  },
  {
   "cell_type": "code",
   "execution_count": 163,
   "metadata": {},
   "outputs": [],
   "source": [
    "def get_students_enrolled(subject_id, exam_type, academic_year):\n",
    "    query = \"select Students_Enrolled from ENROLLED where Subject_ID = %s and Exam_Type = %s and Academic_Year = %s\"\n",
    "    cursor.execute(query, (subject_id, exam_type, academic_year))\n",
    "    records = cursor.fetchall()\n",
    "    students_enrolled = records[0][0]\n",
    "    return students_enrolled"
   ]
  },
  {
   "cell_type": "code",
   "execution_count": 164,
   "metadata": {},
   "outputs": [],
   "source": [
    "def get_classrooms():\n",
    "    query = \"select Classroom_ID, Capacity, Department_ID from CLASSROOM\"\n",
    "    cursor.execute(query)\n",
    "    records = cursor.fetchall()\n",
    "    classrooms = []\n",
    "    for row in records:\n",
    "        classrooms.append(row)\n",
    "    return classrooms"
   ]
  },
  {
   "cell_type": "code",
   "execution_count": 173,
   "metadata": {},
   "outputs": [
    {
     "name": "stdout",
     "output_type": "stream",
     "text": [
      "101, ISE\n",
      "301, ISE\n",
      "201, ISE\n",
      "302, CSE\n",
      "301, CSE\n",
      "201, CSE\n",
      "203, CSE\n",
      "103, ISE\n"
     ]
    }
   ],
   "source": [
    "students_enrolled = get_students_enrolled('18HSI51', 'regular', 2023)\n",
    "available_classrooms = get_classrooms()\n",
    "used_classrooms = []\n",
    "for i in available_classrooms:\n",
    "    x = random.randint(0, len(available_classrooms)-1)\n",
    "    if(students_enrolled>0 and available_classrooms[x] not in used_classrooms):\n",
    "        if(students_enrolled<=available_classrooms[x][1]):\n",
    "            used_classrooms.append(available_classrooms[x])\n",
    "            # print(available_classrooms[x][0]+', '+available_classrooms[x][2])\n",
    "            students_enrolled = 0\n",
    "        else:\n",
    "            used_classrooms.append(available_classrooms[x])\n",
    "            # print(available_classrooms[x][0]+', '+available_classrooms[x][2])\n",
    "            students_enrolled = students_enrolled - available_classrooms[x][1]\n",
    "for i in used_classrooms:\n",
    "    print(i[0]+', '+i[2])\n"
   ]
  },
  {
   "cell_type": "code",
   "execution_count": 176,
   "metadata": {},
   "outputs": [],
   "source": [
    "def assign_classrooms(subject_id, exam_type, academic_year):\n",
    "    students_enrolled = get_students_enrolled(subject_id, exam_type, academic_year)\n",
    "    available_classrooms = get_classrooms()\n",
    "    used_classrooms = []\n",
    "    for i in available_classrooms:\n",
    "        x = random.randint(0, len(available_classrooms)-1)\n",
    "        if(students_enrolled>0 and available_classrooms[x] not in used_classrooms):\n",
    "            if(students_enrolled<=available_classrooms[x][1]):\n",
    "                used_classrooms.append(available_classrooms[x])\n",
    "                # print(available_classrooms[x][0]+', '+available_classrooms[x][2])\n",
    "                students_enrolled = 0\n",
    "            else:\n",
    "                used_classrooms.append(available_classrooms[x])\n",
    "                # print(available_classrooms[x][0]+', '+available_classrooms[x][2])\n",
    "                students_enrolled = students_enrolled - available_classrooms[x][1]\n",
    "    t = len(used_classrooms)\n",
    "    query = \"update HAS_EXAM set required_invigilators = %s where Subject_ID = %s and Exam_Type = %s and Academic_Year = %s\"\n",
    "    cursor.execute(query, (t, subject_id, exam_type, academic_year))\n",
    "    connection.commit()\n",
    "    for i in used_classrooms:\n",
    "        query = \"insert into assigned_classrooms values(%s, %s, %s, %s, %s)\"\n",
    "        cursor.execute(query, (i[0], subject_id, exam_type, academic_year, i[2]))\n"
   ]
  },
  {
   "cell_type": "code",
   "execution_count": 177,
   "metadata": {},
   "outputs": [],
   "source": [
    "for i in possible_exams:\n",
    "    assign_classrooms(i[2], i[1], i[0])"
   ]
  },
  {
   "cell_type": "code",
   "execution_count": 190,
   "metadata": {},
   "outputs": [],
   "source": [
    "def get_groups():\n",
    "    query = \"select Group_ID, Department_ID, Invig_count from FACULTY\"\n",
    "    cursor.execute(query)\n",
    "    records = cursor.fetchall()\n",
    "    answer = []\n",
    "    for row in records:\n",
    "        answer.append(row)\n",
    "    answer = set(answer)\n",
    "    answer = list(answer)\n",
    "    return answer"
   ]
  },
  {
   "cell_type": "code",
   "execution_count": 183,
   "metadata": {},
   "outputs": [],
   "source": [
    "def get_invig_count(faculty_id, department_id):\n",
    "    query = \"select Invig_count from FACULTY where Faculty_ID = %s and Department_ID = %s\"\n",
    "    cursor.execute(query, (faculty_id, department_id))\n",
    "    records = cursor.fetchall()\n",
    "    invig_count = records[0][0]\n",
    "    return invig_count"
   ]
  },
  {
   "cell_type": "code",
   "execution_count": 184,
   "metadata": {},
   "outputs": [],
   "source": [
    "def get_faculties_in_group(group_id, department_id):\n",
    "    query = \"select Faculty_ID from FACULTY where Group_ID = %s and Department_ID = %s\"\n",
    "    cursor.execute(query, (group_id, department_id))\n",
    "    records = cursor.fetchall()\n",
    "    faculties = []\n",
    "    for row in records:\n",
    "        faculties.append(row[0])\n",
    "    return faculties"
   ]
  },
  {
   "cell_type": "code",
   "execution_count": 193,
   "metadata": {},
   "outputs": [],
   "source": [
    "groups = get_groups()"
   ]
  },
  {
   "cell_type": "code",
   "execution_count": 188,
   "metadata": {},
   "outputs": [],
   "source": [
    "def assign_faculty_classroom(faculty_id, academic_year, exam_type, classroom_id, department_id):\n",
    "    query = \"insert into invigilates values(%s, %s, %s, %s, %s)\"\n",
    "    cursor.execute(query, (faculty_id, academic_year, exam_type, classroom_id, department_id))  \n",
    "    connection.commit()"
   ]
  },
  {
   "cell_type": "code",
   "execution_count": 192,
   "metadata": {},
   "outputs": [],
   "source": [
    "def get_classrooms_assigned():\n",
    "    query = \"select * from assigned_classrooms\"\n",
    "    cursor.execute(query)\n",
    "    records = cursor.fetchall()\n",
    "    classrooms = []\n",
    "    for row in records:\n",
    "        classrooms.append(row)\n",
    "    return classrooms"
   ]
  },
  {
   "cell_type": "code",
   "execution_count": null,
   "metadata": {},
   "outputs": [],
   "source": [
    "classrooms_to_be_assigned = get_classrooms_assigned()"
   ]
  },
  {
   "cell_type": "code",
   "execution_count": 240,
   "metadata": {},
   "outputs": [],
   "source": [
    "def increment_invig_count(faculty_id, department_id):\n",
    "    query = \"update FACULTY set Invig_count = Invig_count + 1 where Faculty_ID = %s and Department_ID = %s\"\n",
    "    cursor.execute(query, (faculty_id,department_id))\n",
    "    connection.commit()"
   ]
  },
  {
   "cell_type": "code",
   "execution_count": 241,
   "metadata": {},
   "outputs": [],
   "source": [
    "def group_gets_assigned(classrooms):\n",
    "    y = random.sample(range(0,len(classrooms)), len(classrooms)-1)\n",
    "    while(len(y)!=0):\n",
    "        groups = get_groups()\n",
    "        groups.sort(key = lambda x: x[2])\n",
    "        x = random.randint(0,3)\n",
    "        faculties_group = get_faculties_in_group(groups[x][0], groups[x][1])\n",
    "        for i in faculties_group:\n",
    "            print(i)\n",
    "            if len(y)==0:\n",
    "                for j in range(i, len(faculties_group)):\n",
    "                    increment_invig_count(faculties_group[j], groups[x][1])\n",
    "                break\n",
    "            t = y.pop()\n",
    "            print(classrooms[t][3])\n",
    "            print(classrooms[t][2])\n",
    "            print(classrooms[t][0])\n",
    "            print(classrooms[t][4])\n",
    "            print(groups[x][1])\n",
    "            assign_faculty_classroom(i, classrooms[t][3], classrooms[t][2], classrooms[t][0], classrooms[t][4])\n",
    "            increment_invig_count('MM','ISE')"
   ]
  },
  {
   "cell_type": "code",
   "execution_count": 242,
   "metadata": {},
   "outputs": [
    {
     "name": "stdout",
     "output_type": "stream",
     "text": [
      "CRM\n",
      "2023\n",
      "regular\n",
      "102\n",
      "ISE\n",
      "CSE\n",
      "TD\n",
      "2023\n",
      "makeup\n",
      "202\n",
      "CSE\n",
      "CSE\n",
      "DN\n",
      "2023\n",
      "makeup\n",
      "101\n",
      "CSE\n",
      "CSE\n",
      "KB\n",
      "2023\n",
      "regular\n",
      "104\n",
      "ISE\n",
      "CSE\n",
      "PT\n",
      "2023\n",
      "makeup\n",
      "104\n",
      "ISE\n",
      "ISE\n",
      "RGP\n",
      "2023\n",
      "regular\n",
      "301\n",
      "ISE\n",
      "ISE\n",
      "SGR\n",
      "2023\n",
      "regular\n",
      "202\n",
      "CSE\n",
      "ISE\n",
      "MM\n",
      "2023\n",
      "regular\n",
      "103\n",
      "ISE\n",
      "ISE\n",
      "PK\n",
      "2023\n",
      "regular\n",
      "201\n",
      "ISE\n",
      "ISE\n",
      "DN\n",
      "2023\n",
      "regular\n",
      "104\n",
      "ISE\n",
      "CSE\n",
      "KB\n",
      "2023\n",
      "makeup\n",
      "201\n",
      "CSE\n",
      "CSE\n",
      "CRM\n",
      "2023\n",
      "regular\n",
      "201\n",
      "CSE\n",
      "CSE\n",
      "TD\n",
      "2023\n",
      "makeup\n",
      "202\n",
      "CSE\n",
      "CSE\n"
     ]
    },
    {
     "ename": "IntegrityError",
     "evalue": "1062 (23000): Duplicate entry 'TD-2023-makeup-202-CSE' for key 'invigilates.PRIMARY'",
     "output_type": "error",
     "traceback": [
      "\u001b[0;31m---------------------------------------------------------------------------\u001b[0m",
      "\u001b[0;31mMySQLInterfaceError\u001b[0m                       Traceback (most recent call last)",
      "File \u001b[0;32m~/opt/miniconda3/envs/tensorflow/lib/python3.9/site-packages/mysql/connector/connection_cext.py:608\u001b[0m, in \u001b[0;36mCMySQLConnection.cmd_query\u001b[0;34m(self, query, raw, buffered, raw_as_string)\u001b[0m\n\u001b[1;32m    607\u001b[0m         query \u001b[39m=\u001b[39m query\u001b[39m.\u001b[39mencode(\u001b[39m\"\u001b[39m\u001b[39mutf-8\u001b[39m\u001b[39m\"\u001b[39m)\n\u001b[0;32m--> 608\u001b[0m     \u001b[39mself\u001b[39;49m\u001b[39m.\u001b[39;49m_cmysql\u001b[39m.\u001b[39;49mquery(\n\u001b[1;32m    609\u001b[0m         query,\n\u001b[1;32m    610\u001b[0m         raw\u001b[39m=\u001b[39;49mraw,\n\u001b[1;32m    611\u001b[0m         buffered\u001b[39m=\u001b[39;49mbuffered,\n\u001b[1;32m    612\u001b[0m         raw_as_string\u001b[39m=\u001b[39;49mraw_as_string,\n\u001b[1;32m    613\u001b[0m         query_attrs\u001b[39m=\u001b[39;49m\u001b[39mself\u001b[39;49m\u001b[39m.\u001b[39;49m_query_attrs,\n\u001b[1;32m    614\u001b[0m     )\n\u001b[1;32m    615\u001b[0m \u001b[39mexcept\u001b[39;00m MySQLInterfaceError \u001b[39mas\u001b[39;00m err:\n",
      "\u001b[0;31mMySQLInterfaceError\u001b[0m: Duplicate entry 'TD-2023-makeup-202-CSE' for key 'invigilates.PRIMARY'",
      "\nThe above exception was the direct cause of the following exception:\n",
      "\u001b[0;31mIntegrityError\u001b[0m                            Traceback (most recent call last)",
      "\u001b[1;32m/Users/abdurehaman/Documents/GitHub/SEE_Invig_algorithm/SEE_INV_Allocator_Algo.ipynb Cell 44\u001b[0m in \u001b[0;36m<cell line: 1>\u001b[0;34m()\u001b[0m\n\u001b[0;32m----> <a href='vscode-notebook-cell:/Users/abdurehaman/Documents/GitHub/SEE_Invig_algorithm/SEE_INV_Allocator_Algo.ipynb#X65sZmlsZQ%3D%3D?line=0'>1</a>\u001b[0m group_gets_assigned(classrooms_to_be_assigned)\n",
      "\u001b[1;32m/Users/abdurehaman/Documents/GitHub/SEE_Invig_algorithm/SEE_INV_Allocator_Algo.ipynb Cell 44\u001b[0m in \u001b[0;36mgroup_gets_assigned\u001b[0;34m(classrooms)\u001b[0m\n\u001b[1;32m     <a href='vscode-notebook-cell:/Users/abdurehaman/Documents/GitHub/SEE_Invig_algorithm/SEE_INV_Allocator_Algo.ipynb#X65sZmlsZQ%3D%3D?line=17'>18</a>\u001b[0m \u001b[39mprint\u001b[39m(classrooms[t][\u001b[39m4\u001b[39m])\n\u001b[1;32m     <a href='vscode-notebook-cell:/Users/abdurehaman/Documents/GitHub/SEE_Invig_algorithm/SEE_INV_Allocator_Algo.ipynb#X65sZmlsZQ%3D%3D?line=18'>19</a>\u001b[0m \u001b[39mprint\u001b[39m(groups[x][\u001b[39m1\u001b[39m])\n\u001b[0;32m---> <a href='vscode-notebook-cell:/Users/abdurehaman/Documents/GitHub/SEE_Invig_algorithm/SEE_INV_Allocator_Algo.ipynb#X65sZmlsZQ%3D%3D?line=19'>20</a>\u001b[0m assign_faculty_classroom(i, classrooms[t][\u001b[39m3\u001b[39;49m], classrooms[t][\u001b[39m2\u001b[39;49m], classrooms[t][\u001b[39m0\u001b[39;49m], classrooms[t][\u001b[39m4\u001b[39;49m])\n\u001b[1;32m     <a href='vscode-notebook-cell:/Users/abdurehaman/Documents/GitHub/SEE_Invig_algorithm/SEE_INV_Allocator_Algo.ipynb#X65sZmlsZQ%3D%3D?line=20'>21</a>\u001b[0m increment_invig_count(\u001b[39m'\u001b[39m\u001b[39mMM\u001b[39m\u001b[39m'\u001b[39m,\u001b[39m'\u001b[39m\u001b[39mISE\u001b[39m\u001b[39m'\u001b[39m)\n",
      "\u001b[1;32m/Users/abdurehaman/Documents/GitHub/SEE_Invig_algorithm/SEE_INV_Allocator_Algo.ipynb Cell 44\u001b[0m in \u001b[0;36massign_faculty_classroom\u001b[0;34m(faculty_id, academic_year, exam_type, classroom_id, department_id)\u001b[0m\n\u001b[1;32m      <a href='vscode-notebook-cell:/Users/abdurehaman/Documents/GitHub/SEE_Invig_algorithm/SEE_INV_Allocator_Algo.ipynb#X65sZmlsZQ%3D%3D?line=0'>1</a>\u001b[0m \u001b[39mdef\u001b[39;00m \u001b[39massign_faculty_classroom\u001b[39m(faculty_id, academic_year, exam_type, classroom_id, department_id):\n\u001b[1;32m      <a href='vscode-notebook-cell:/Users/abdurehaman/Documents/GitHub/SEE_Invig_algorithm/SEE_INV_Allocator_Algo.ipynb#X65sZmlsZQ%3D%3D?line=1'>2</a>\u001b[0m     query \u001b[39m=\u001b[39m \u001b[39m\"\u001b[39m\u001b[39minsert into invigilates values(\u001b[39m\u001b[39m%s\u001b[39;00m\u001b[39m, \u001b[39m\u001b[39m%s\u001b[39;00m\u001b[39m, \u001b[39m\u001b[39m%s\u001b[39;00m\u001b[39m, \u001b[39m\u001b[39m%s\u001b[39;00m\u001b[39m, \u001b[39m\u001b[39m%s\u001b[39;00m\u001b[39m)\u001b[39m\u001b[39m\"\u001b[39m\n\u001b[0;32m----> <a href='vscode-notebook-cell:/Users/abdurehaman/Documents/GitHub/SEE_Invig_algorithm/SEE_INV_Allocator_Algo.ipynb#X65sZmlsZQ%3D%3D?line=2'>3</a>\u001b[0m     cursor\u001b[39m.\u001b[39;49mexecute(query, (faculty_id, academic_year, exam_type, classroom_id, department_id))  \n\u001b[1;32m      <a href='vscode-notebook-cell:/Users/abdurehaman/Documents/GitHub/SEE_Invig_algorithm/SEE_INV_Allocator_Algo.ipynb#X65sZmlsZQ%3D%3D?line=3'>4</a>\u001b[0m     connection\u001b[39m.\u001b[39mcommit()\n",
      "File \u001b[0;32m~/opt/miniconda3/envs/tensorflow/lib/python3.9/site-packages/mysql/connector/cursor_cext.py:330\u001b[0m, in \u001b[0;36mCMySQLCursor.execute\u001b[0;34m(self, operation, params, multi)\u001b[0m\n\u001b[1;32m    325\u001b[0m             \u001b[39mraise\u001b[39;00m ProgrammingError(\n\u001b[1;32m    326\u001b[0m                 \u001b[39m\"\u001b[39m\u001b[39mNot all parameters were used in the SQL statement\u001b[39m\u001b[39m\"\u001b[39m\n\u001b[1;32m    327\u001b[0m             )\n\u001b[1;32m    329\u001b[0m \u001b[39mtry\u001b[39;00m:\n\u001b[0;32m--> 330\u001b[0m     result \u001b[39m=\u001b[39m \u001b[39mself\u001b[39;49m\u001b[39m.\u001b[39;49m_cnx\u001b[39m.\u001b[39;49mcmd_query(\n\u001b[1;32m    331\u001b[0m         stmt,\n\u001b[1;32m    332\u001b[0m         raw\u001b[39m=\u001b[39;49m\u001b[39mself\u001b[39;49m\u001b[39m.\u001b[39;49m_raw,\n\u001b[1;32m    333\u001b[0m         buffered\u001b[39m=\u001b[39;49m\u001b[39mself\u001b[39;49m\u001b[39m.\u001b[39;49m_buffered,\n\u001b[1;32m    334\u001b[0m         raw_as_string\u001b[39m=\u001b[39;49m\u001b[39mself\u001b[39;49m\u001b[39m.\u001b[39;49m_raw_as_string,\n\u001b[1;32m    335\u001b[0m     )\n\u001b[1;32m    336\u001b[0m \u001b[39mexcept\u001b[39;00m MySQLInterfaceError \u001b[39mas\u001b[39;00m err:\n\u001b[1;32m    337\u001b[0m     \u001b[39mraise\u001b[39;00m get_mysql_exception(\n\u001b[1;32m    338\u001b[0m         msg\u001b[39m=\u001b[39merr\u001b[39m.\u001b[39mmsg, errno\u001b[39m=\u001b[39merr\u001b[39m.\u001b[39merrno, sqlstate\u001b[39m=\u001b[39merr\u001b[39m.\u001b[39msqlstate\n\u001b[1;32m    339\u001b[0m     ) \u001b[39mfrom\u001b[39;00m \u001b[39merr\u001b[39;00m\n",
      "File \u001b[0;32m~/opt/miniconda3/envs/tensorflow/lib/python3.9/site-packages/mysql/connector/connection_cext.py:616\u001b[0m, in \u001b[0;36mCMySQLConnection.cmd_query\u001b[0;34m(self, query, raw, buffered, raw_as_string)\u001b[0m\n\u001b[1;32m    608\u001b[0m     \u001b[39mself\u001b[39m\u001b[39m.\u001b[39m_cmysql\u001b[39m.\u001b[39mquery(\n\u001b[1;32m    609\u001b[0m         query,\n\u001b[1;32m    610\u001b[0m         raw\u001b[39m=\u001b[39mraw,\n\u001b[0;32m   (...)\u001b[0m\n\u001b[1;32m    613\u001b[0m         query_attrs\u001b[39m=\u001b[39m\u001b[39mself\u001b[39m\u001b[39m.\u001b[39m_query_attrs,\n\u001b[1;32m    614\u001b[0m     )\n\u001b[1;32m    615\u001b[0m \u001b[39mexcept\u001b[39;00m MySQLInterfaceError \u001b[39mas\u001b[39;00m err:\n\u001b[0;32m--> 616\u001b[0m     \u001b[39mraise\u001b[39;00m get_mysql_exception(\n\u001b[1;32m    617\u001b[0m         err\u001b[39m.\u001b[39merrno, msg\u001b[39m=\u001b[39merr\u001b[39m.\u001b[39mmsg, sqlstate\u001b[39m=\u001b[39merr\u001b[39m.\u001b[39msqlstate\n\u001b[1;32m    618\u001b[0m     ) \u001b[39mfrom\u001b[39;00m \u001b[39merr\u001b[39;00m\n\u001b[1;32m    619\u001b[0m \u001b[39mexcept\u001b[39;00m \u001b[39mAttributeError\u001b[39;00m \u001b[39mas\u001b[39;00m err:\n\u001b[1;32m    620\u001b[0m     addr \u001b[39m=\u001b[39m (\n\u001b[1;32m    621\u001b[0m         \u001b[39mself\u001b[39m\u001b[39m.\u001b[39m_unix_socket \u001b[39mif\u001b[39;00m \u001b[39mself\u001b[39m\u001b[39m.\u001b[39m_unix_socket \u001b[39melse\u001b[39;00m \u001b[39mf\u001b[39m\u001b[39m\"\u001b[39m\u001b[39m{\u001b[39;00m\u001b[39mself\u001b[39m\u001b[39m.\u001b[39m_host\u001b[39m}\u001b[39;00m\u001b[39m:\u001b[39m\u001b[39m{\u001b[39;00m\u001b[39mself\u001b[39m\u001b[39m.\u001b[39m_port\u001b[39m}\u001b[39;00m\u001b[39m\"\u001b[39m\n\u001b[1;32m    622\u001b[0m     )\n",
      "\u001b[0;31mIntegrityError\u001b[0m: 1062 (23000): Duplicate entry 'TD-2023-makeup-202-CSE' for key 'invigilates.PRIMARY'"
     ]
    }
   ],
   "source": [
    "group_gets_assigned(classrooms_to_be_assigned)"
   ]
  },
  {
   "cell_type": "code",
   "execution_count": 239,
   "metadata": {},
   "outputs": [],
   "source": []
  },
  {
   "cell_type": "code",
   "execution_count": null,
   "metadata": {},
   "outputs": [],
   "source": []
  }
 ],
 "metadata": {
  "kernelspec": {
   "display_name": "Python 3.9.13 ('tensorflow')",
   "language": "python",
   "name": "python3"
  },
  "language_info": {
   "codemirror_mode": {
    "name": "ipython",
    "version": 3
   },
   "file_extension": ".py",
   "mimetype": "text/x-python",
   "name": "python",
   "nbconvert_exporter": "python",
   "pygments_lexer": "ipython3",
   "version": "3.9.13"
  },
  "orig_nbformat": 4,
  "vscode": {
   "interpreter": {
    "hash": "394790b30aea288f0ec741f95f8af4fb06399bd07c88814afead1534ec90e49c"
   }
  }
 },
 "nbformat": 4,
 "nbformat_minor": 2
}
