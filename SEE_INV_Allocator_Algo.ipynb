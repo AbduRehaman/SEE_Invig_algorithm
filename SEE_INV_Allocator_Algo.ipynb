{
 "cells": [
  {
   "cell_type": "code",
   "execution_count": 1,
   "metadata": {},
   "outputs": [],
   "source": [
    "import mysql.connector"
   ]
  },
  {
   "cell_type": "code",
   "execution_count": 2,
   "metadata": {},
   "outputs": [],
   "source": [
    "connection = mysql.connector.connect(\n",
    "    host=\"localhost\",\n",
    "    database=\"SEE_INV\",\n",
    "    user=\"root\",\n",
    "    password=\"root@123\"\n",
    ")"
   ]
  },
  {
   "cell_type": "code",
   "execution_count": 3,
   "metadata": {},
   "outputs": [
    {
     "data": {
      "text/plain": [
       "True"
      ]
     },
     "execution_count": 3,
     "metadata": {},
     "output_type": "execute_result"
    }
   ],
   "source": [
    "connection.is_connected()"
   ]
  },
  {
   "cell_type": "code",
   "execution_count": 4,
   "metadata": {},
   "outputs": [],
   "source": [
    "cursor = connection.cursor()"
   ]
  },
  {
   "cell_type": "code",
   "execution_count": 41,
   "metadata": {},
   "outputs": [
    {
     "name": "stdout",
     "output_type": "stream",
     "text": [
      "Connected to MySQL Server version  8.0.31\n",
      "You're connected to database:  ('see_inv',)\n"
     ]
    }
   ],
   "source": [
    "import mysql.connector\n",
    "from mysql.connector import Error\n",
    "\n",
    "try:\n",
    "    connection = mysql.connector.connect(    host=\"localhost\",\n",
    "    database=\"SEE_INV\",\n",
    "    user=\"root\",\n",
    "    password=\"root@123\")\n",
    "    if connection.is_connected():\n",
    "        db_Info = connection.get_server_info()\n",
    "        print(\"Connected to MySQL Server version \", db_Info)\n",
    "        cursor = connection.cursor(buffered=True)\n",
    "        cursor.execute(\"select database();\")\n",
    "        record = cursor.fetchone()\n",
    "        print(\"You're connected to database: \", record)\n",
    "\n",
    "except Error as e:\n",
    "    print(\"Error while connecting to MySQL\", e)\n"
   ]
  },
  {
   "cell_type": "code",
   "execution_count": 42,
   "metadata": {},
   "outputs": [
    {
     "name": "stdout",
     "output_type": "stream",
     "text": [
      "('CRM', 'Chethana', '', 'Murthy', 'chethanamurthy@rvce.edu.in', '2', '', 'CSE', 0, 0)\n",
      "('DN', 'Deepa', '', 'Malan', 'deepamalan@rvce.edu.in', '1', '', 'CSE', 0, 0)\n",
      "('KB', 'Badrinath', '', 'KB', 'badrinath.kb@rvce.edu.in', '1', '', 'CSE', 0, 0)\n",
      "('MM', 'Merin', '', 'Meleet', 'merinmeleet@rvce.edu.in', '2', '', 'ISE', 0, 0)\n",
      "('PK', 'Poornima', '', 'Kulkarni', 'poornimak@rvce.edu.in', '2', '', 'ISE', 0, 0)\n",
      "('PT', 'Padmashree', '', 'T', 'padmashreet@rvce.edu.in', '1', '', 'ISE', 0, 0)\n",
      "('RGP', 'Raghavendraprasad', '', 'S', 'raghavendrap@rvce.edu.in', '1', '', 'ISE', 0, 0)\n",
      "('SGR', 'Smitha', '', 'GR', 'smithagr@rvce.edu.in', '1', '', 'ISE', 0, 0)\n",
      "('TD', 'Pratiba', '', 'D', 'pratibad@rvce.edu.in', '2', '', 'CSE', 0, 0)\n"
     ]
    }
   ],
   "source": [
    "query = \"select * from FACULTY\"\n",
    "cursor.execute(query)\n",
    "records = cursor.fetchall()\n",
    "for row in records:\n",
    "    print(row)"
   ]
  },
  {
   "cell_type": "code",
   "execution_count": 48,
   "metadata": {},
   "outputs": [
    {
     "name": "stdout",
     "output_type": "stream",
     "text": [
      "('DN', 'Deepa', '', 'Malan', 'deepamalan@rvce.edu.in', '1', '', 'CSE', 0, 0)\n",
      "('KB', 'Badrinath', '', 'KB', 'badrinath.kb@rvce.edu.in', '1', '', 'CSE', 0, 0)\n",
      "('CRM', 'Chethana', '', 'Murthy', 'chethanamurthy@rvce.edu.in', '2', '', 'CSE', 0, 0)\n",
      "('TD', 'Pratiba', '', 'D', 'pratibad@rvce.edu.in', '2', '', 'CSE', 0, 0)\n",
      "('PT', 'Padmashree', '', 'T', 'padmashreet@rvce.edu.in', '1', '', 'ISE', 0, 0)\n",
      "('RGP', 'Raghavendraprasad', '', 'S', 'raghavendrap@rvce.edu.in', '1', '', 'ISE', 0, 0)\n",
      "('SGR', 'Smitha', '', 'GR', 'smithagr@rvce.edu.in', '1', '', 'ISE', 0, 0)\n",
      "('MM', 'Merin', '', 'Meleet', 'merinmeleet@rvce.edu.in', '2', '', 'ISE', 0, 0)\n",
      "('PK', 'Poornima', '', 'Kulkarni', 'poornimak@rvce.edu.in', '2', '', 'ISE', 0, 0)\n"
     ]
    }
   ],
   "source": [
    "query = \"select * from FACULTY order by Department_ID, Group_ID\"\n",
    "cursor.execute(query)\n",
    "records = cursor.fetchall()\n",
    "for row in records:\n",
    "    print(row)"
   ]
  },
  {
   "cell_type": "code",
   "execution_count": null,
   "metadata": {},
   "outputs": [],
   "source": [
    "def randomly_assign_test():"
   ]
  },
  {
   "cell_type": "code",
   "execution_count": 56,
   "metadata": {},
   "outputs": [],
   "source": [
    "def get_group_per_department(department_id):\n",
    "    query = \"select * from FACULTY where Department_ID = %s order by Group_ID\"\n",
    "    cursor.execute(query, (department_id,))\n",
    "    records = cursor.fetchall()\n",
    "    for row in records:\n",
    "        print(row)\n",
    "\n",
    "def get_facs_group(department_id, group_id):\n",
    "    query = \"select * from FACULTY where Department_ID = %s and Group_ID = %s\"\n",
    "    cursor.execute(query, (department_id, group_id))\n",
    "    records = cursor.fetchall()\n",
    "    for row in records:\n",
    "        increment_invig_count(row[0])\n",
    "        \n",
    "    "
   ]
  },
  {
   "cell_type": "code",
   "execution_count": 57,
   "metadata": {},
   "outputs": [],
   "source": [
    "def increment_invig_count(fac_id):\n",
    "    query = \"update FACULTY set Invig_Count = Invig_Count + 1 where Faculty_ID = %s\"\n",
    "    cursor.execute(query, (fac_id,))\n",
    "    connection.commit()"
   ]
  },
  {
   "cell_type": "code",
   "execution_count": 61,
   "metadata": {},
   "outputs": [],
   "source": [
    "iterative_list = [['ISE','1'], ['ISE','2'], ['CSE','1'], ['CSE','2']]"
   ]
  },
  {
   "cell_type": "code",
   "execution_count": 66,
   "metadata": {},
   "outputs": [],
   "source": [
    "import random"
   ]
  },
  {
   "cell_type": "code",
   "execution_count": 67,
   "metadata": {},
   "outputs": [],
   "source": [
    "def allocation(iterative_list):\n",
    "    i = random.randint(0, len(iterative_list)-1)\n",
    "    get_facs_group(iterative_list[i][0], iterative_list[i][1])"
   ]
  },
  {
   "cell_type": "code",
   "execution_count": 68,
   "metadata": {},
   "outputs": [],
   "source": [
    "for i in range(100):\n",
    "    allocation(iterative_list)"
   ]
  },
  {
   "cell_type": "code",
   "execution_count": null,
   "metadata": {},
   "outputs": [],
   "source": []
  }
 ],
 "metadata": {
  "kernelspec": {
   "display_name": "Python 3.9.13 ('tensorflow')",
   "language": "python",
   "name": "python3"
  },
  "language_info": {
   "codemirror_mode": {
    "name": "ipython",
    "version": 3
   },
   "file_extension": ".py",
   "mimetype": "text/x-python",
   "name": "python",
   "nbconvert_exporter": "python",
   "pygments_lexer": "ipython3",
   "version": "3.9.13"
  },
  "orig_nbformat": 4,
  "vscode": {
   "interpreter": {
    "hash": "394790b30aea288f0ec741f95f8af4fb06399bd07c88814afead1534ec90e49c"
   }
  }
 },
 "nbformat": 4,
 "nbformat_minor": 2
}
